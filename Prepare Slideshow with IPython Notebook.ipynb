{
 "metadata": {
  "celltoolbar": "Slideshow",
  "name": "",
  "signature": "sha256:2bf8c0fbca392bed0e1691f3d79e6c94d34501f10c0702483eccc17854e5b978"
 },
 "nbformat": 3,
 "nbformat_minor": 0,
 "worksheets": [
  {
   "cells": [
    {
     "cell_type": "markdown",
     "metadata": {
      "slideshow": {
       "slide_type": "skip"
      }
     },
     "source": [
      "\ucd9c\ucc98 : http://nbviewer.ipython.org/github/fperez/nb-slideshow-template/blob/master/install-support.ipynb"
     ]
    },
    {
     "cell_type": "markdown",
     "metadata": {
      "slideshow": {
       "slide_type": "slide"
      }
     },
     "source": [
      "# Installing the slideshow support\n",
      "***NOTE*** The tools here require IPython 1.0, they **do not work** with IPython 0.13.2.\n",
      "\n",
      "You should only need to run this notebook once.\n",
      "\n",
      "It will install the slideshow tools in your IPython profile from github. It's done in steps so you can debug it more easily if things go wrong."
     ]
    },
    {
     "cell_type": "markdown",
     "metadata": {
      "slideshow": {
       "slide_type": "slide"
      }
     },
     "source": [
      "Start by getting the location of your current profile:"
     ]
    },
    {
     "cell_type": "code",
     "collapsed": false,
     "input": [
      "profile_dir = get_ipython().profile_dir.location\n",
      "profile_dir"
     ],
     "language": "python",
     "metadata": {
      "slideshow": {
       "slide_type": "fragment"
      }
     },
     "outputs": [
      {
       "metadata": {},
       "output_type": "pyout",
       "prompt_number": 12,
       "text": [
        "u'/home/ghacker/.ipython/profile_default'"
       ]
      }
     ],
     "prompt_number": 12
    },
    {
     "cell_type": "markdown",
     "metadata": {
      "slideshow": {
       "slide_type": "slide"
      }
     },
     "source": [
      "Clone the [Github repo](https://github.com/ipython-contrib/IPython-notebook-extensions) with IPython extensions, including the slideshow support, into the right location:"
     ]
    },
    {
     "cell_type": "code",
     "collapsed": false,
     "input": [
      "import os\n",
      "tgt = os.path.join( profile_dir, 'static', 'custom')\n",
      "!git clone -b 2.x  https://github.com/ipython-contrib/IPython-notebook-extensions.git $tgt"
     ],
     "language": "python",
     "metadata": {
      "slideshow": {
       "slide_type": "fragment"
      }
     },
     "outputs": [
      {
       "output_type": "stream",
       "stream": "stdout",
       "text": [
        "Cloning into '/home/ghacker/.ipython/profile_default/static/custom'...\r\n"
       ]
      },
      {
       "output_type": "stream",
       "stream": "stdout",
       "text": [
        "remote: Counting objects: 1280, done.\u001b[K\r\n",
        "remote: Compressing objects:   6% (1/15)   \u001b[K\r",
        "remote: Compressing objects:  13% (2/15)   \u001b[K\r",
        "remote: Compressing objects:  20% (3/15)   \u001b[K\r",
        "remote: Compressing objects:  26% (4/15)   \u001b[K\r",
        "remote: Compressing objects:  33% (5/15)   \u001b[K\r",
        "remote: Compressing objects:  40% (6/15)   \u001b[K\r"
       ]
      },
      {
       "output_type": "stream",
       "stream": "stdout",
       "text": [
        "remote: Compressing objects:  46% (7/15)   \u001b[K\r",
        "remote: Compressing objects:  53% (8/15)   \u001b[K\r",
        "remote: Compressing objects:  60% (9/15)   \u001b[K\r",
        "remote: Compressing objects:  66% (10/15)   \u001b[K\r",
        "remote: Compressing objects:  73% (11/15)   \u001b[K\r",
        "remote: Compressing objects:  80% (12/15)   \u001b[K\r",
        "remote: Compressing objects:  86% (13/15)   \u001b[K\r",
        "remote: Compressing objects:  93% (14/15)   \u001b[K\r",
        "remote: Compressing objects: 100% (15/15)   \u001b[K\r",
        "remote: Compressing objects: 100% (15/15), done.\u001b[K\r\n",
        "Receiving objects:   0% (1/1280)   \r",
        "Receiving objects:   1% (13/1280)   \r",
        "Receiving objects:   2% (26/1280)   \r",
        "Receiving objects:   3% (39/1280)   \r"
       ]
      },
      {
       "output_type": "stream",
       "stream": "stdout",
       "text": [
        "Receiving objects:   4% (52/1280)   \r",
        "Receiving objects:   5% (64/1280)   \r",
        "Receiving objects:   6% (77/1280)   \r",
        "Receiving objects:   7% (90/1280)   \r",
        "Receiving objects:   8% (103/1280)   \r",
        "Receiving objects:   9% (116/1280)   \r",
        "Receiving objects:  10% (128/1280)   \r",
        "Receiving objects:  11% (141/1280)   \r",
        "Receiving objects:  12% (154/1280)   \r"
       ]
      },
      {
       "output_type": "stream",
       "stream": "stdout",
       "text": [
        "Receiving objects:  13% (167/1280), 36.00 KiB | 62.00 KiB/s   \r",
        "Receiving objects:  14% (180/1280), 36.00 KiB | 62.00 KiB/s   \r",
        "Receiving objects:  15% (192/1280), 36.00 KiB | 62.00 KiB/s   \r",
        "Receiving objects:  16% (205/1280), 36.00 KiB | 62.00 KiB/s   \r",
        "Receiving objects:  17% (218/1280), 36.00 KiB | 62.00 KiB/s   \r",
        "Receiving objects:  18% (231/1280), 36.00 KiB | 62.00 KiB/s   \r",
        "Receiving objects:  19% (244/1280), 36.00 KiB | 62.00 KiB/s   \r",
        "Receiving objects:  20% (256/1280), 36.00 KiB | 62.00 KiB/s   \r",
        "Receiving objects:  21% (269/1280), 36.00 KiB | 62.00 KiB/s   \r",
        "Receiving objects:  22% (282/1280), 36.00 KiB | 62.00 KiB/s   \r"
       ]
      },
      {
       "output_type": "stream",
       "stream": "stdout",
       "text": [
        "Receiving objects:  23% (295/1280), 36.00 KiB | 62.00 KiB/s   \r",
        "Receiving objects:  24% (308/1280), 36.00 KiB | 62.00 KiB/s   \r",
        "Receiving objects:  25% (320/1280), 36.00 KiB | 62.00 KiB/s   \r",
        "Receiving objects:  26% (333/1280), 36.00 KiB | 62.00 KiB/s   \r"
       ]
      },
      {
       "output_type": "stream",
       "stream": "stdout",
       "text": [
        "Receiving objects:  27% (346/1280), 36.00 KiB | 62.00 KiB/s   \r"
       ]
      },
      {
       "output_type": "stream",
       "stream": "stdout",
       "text": [
        "Receiving objects:  27% (349/1280), 76.00 KiB | 50.00 KiB/s   \r",
        "Receiving objects:  28% (359/1280), 76.00 KiB | 50.00 KiB/s   \r"
       ]
      },
      {
       "output_type": "stream",
       "stream": "stdout",
       "text": [
        "Receiving objects:  29% (372/1280), 76.00 KiB | 50.00 KiB/s   \r"
       ]
      },
      {
       "output_type": "stream",
       "stream": "stdout",
       "text": [
        "Receiving objects:  29% (373/1280), 236.00 KiB | 94.00 KiB/s   \r"
       ]
      },
      {
       "output_type": "stream",
       "stream": "stdout",
       "text": [
        "Receiving objects:  29% (373/1280), 316.00 KiB | 101.00 KiB/s   \r"
       ]
      },
      {
       "output_type": "stream",
       "stream": "stdout",
       "text": [
        "Receiving objects:  29% (374/1280), 532.00 KiB | 126.00 KiB/s   \r"
       ]
      },
      {
       "output_type": "stream",
       "stream": "stdout",
       "text": [
        "Receiving objects:  29% (374/1280), 812.00 KiB | 151.00 KiB/s   \r"
       ]
      },
      {
       "output_type": "stream",
       "stream": "stdout",
       "text": [
        "Receiving objects:  29% (375/1280), 1.11 MiB | 198.00 KiB/s   \r"
       ]
      },
      {
       "output_type": "stream",
       "stream": "stdout",
       "text": [
        "Receiving objects:  29% (376/1280), 1.25 MiB | 209.00 KiB/s   \r"
       ]
      },
      {
       "output_type": "stream",
       "stream": "stdout",
       "text": [
        "Receiving objects:  29% (377/1280), 1.58 MiB | 235.00 KiB/s   \r"
       ]
      },
      {
       "output_type": "stream",
       "stream": "stdout",
       "text": [
        "Receiving objects:  29% (378/1280), 1.71 MiB | 237.00 KiB/s   \r"
       ]
      },
      {
       "output_type": "stream",
       "stream": "stdout",
       "text": [
        "Receiving objects:  29% (380/1280), 1.82 MiB | 234.00 KiB/s   \r"
       ]
      },
      {
       "output_type": "stream",
       "stream": "stdout",
       "text": [
        "Receiving objects:  29% (381/1280), 2.07 MiB | 228.00 KiB/s   \r"
       ]
      },
      {
       "output_type": "stream",
       "stream": "stdout",
       "text": [
        "Receiving objects:  30% (384/1280), 2.07 MiB | 228.00 KiB/s   \r",
        "Receiving objects:  31% (397/1280), 2.07 MiB | 228.00 KiB/s   \r",
        "Receiving objects:  32% (410/1280), 2.07 MiB | 228.00 KiB/s   \r"
       ]
      },
      {
       "output_type": "stream",
       "stream": "stdout",
       "text": [
        "Receiving objects:  33% (423/1280), 2.07 MiB | 228.00 KiB/s   \r",
        "Receiving objects:  34% (436/1280), 2.07 MiB | 228.00 KiB/s   \r",
        "Receiving objects:  35% (448/1280), 2.07 MiB | 228.00 KiB/s   \r",
        "Receiving objects:  36% (461/1280), 2.07 MiB | 228.00 KiB/s   \r"
       ]
      },
      {
       "output_type": "stream",
       "stream": "stdout",
       "text": [
        "Receiving objects:  37% (474/1280), 2.21 MiB | 222.00 KiB/s   \r"
       ]
      },
      {
       "output_type": "stream",
       "stream": "stdout",
       "text": [
        "Receiving objects:  37% (479/1280), 2.32 MiB | 225.00 KiB/s   \r"
       ]
      },
      {
       "output_type": "stream",
       "stream": "stdout",
       "text": [
        "Receiving objects:  37% (482/1280), 2.46 MiB | 224.00 KiB/s   \r"
       ]
      },
      {
       "output_type": "stream",
       "stream": "stdout",
       "text": [
        "Receiving objects:  38% (487/1280), 2.61 MiB | 218.00 KiB/s   \r"
       ]
      },
      {
       "output_type": "stream",
       "stream": "stdout",
       "text": [
        "Receiving objects:  38% (490/1280), 2.82 MiB | 211.00 KiB/s   \r",
        "Receiving objects:  39% (500/1280), 2.82 MiB | 211.00 KiB/s   \r",
        "Receiving objects:  40% (512/1280), 2.82 MiB | 211.00 KiB/s   \r",
        "Receiving objects:  41% (525/1280), 2.82 MiB | 211.00 KiB/s   \r",
        "Receiving objects:  42% (538/1280), 2.82 MiB | 211.00 KiB/s   \r"
       ]
      },
      {
       "output_type": "stream",
       "stream": "stdout",
       "text": [
        "Receiving objects:  43% (551/1280), 2.82 MiB | 211.00 KiB/s   \r",
        "Receiving objects:  44% (564/1280), 2.82 MiB | 211.00 KiB/s   \r",
        "Receiving objects:  45% (576/1280), 2.82 MiB | 211.00 KiB/s   \r",
        "Receiving objects:  46% (589/1280), 2.82 MiB | 211.00 KiB/s   \r",
        "Receiving objects:  47% (602/1280), 2.82 MiB | 211.00 KiB/s   \r",
        "Receiving objects:  48% (615/1280), 2.82 MiB | 211.00 KiB/s   \r",
        "Receiving objects:  49% (628/1280), 2.82 MiB | 211.00 KiB/s   \r",
        "Receiving objects:  50% (640/1280), 2.82 MiB | 211.00 KiB/s   \r",
        "Receiving objects:  51% (653/1280), 2.82 MiB | 211.00 KiB/s   \r",
        "Receiving objects:  52% (666/1280), 2.82 MiB | 211.00 KiB/s   \r",
        "Receiving objects:  53% (679/1280), 2.82 MiB | 211.00 KiB/s   \r",
        "Receiving objects:  54% (692/1280), 2.82 MiB | 211.00 KiB/s   \r",
        "Receiving objects:  55% (704/1280), 2.82 MiB | 211.00 KiB/s   \r",
        "Receiving objects:  56% (717/1280), 2.82 MiB | 211.00 KiB/s   \r",
        "Receiving objects:  57% (730/1280), 2.82 MiB | 211.00 KiB/s   \r",
        "Receiving objects:  58% (743/1280), 2.82 MiB | 211.00 KiB/s   \r",
        "Receiving objects:  59% (756/1280), 2.82 MiB | 211.00 KiB/s   \r",
        "Receiving objects:  60% (768/1280), 2.82 MiB | 211.00 KiB/s   \r",
        "Receiving objects:  61% (781/1280), 2.82 MiB | 211.00 KiB/s   \r",
        "Receiving objects:  62% (794/1280), 2.82 MiB | 211.00 KiB/s   \r",
        "Receiving objects:  63% (807/1280), 2.82 MiB | 211.00 KiB/s   \r",
        "Receiving objects:  64% (820/1280), 2.82 MiB | 211.00 KiB/s   \r",
        "Receiving objects:  65% (832/1280), 2.82 MiB | 211.00 KiB/s   \r",
        "Receiving objects:  66% (845/1280), 2.82 MiB | 211.00 KiB/s   \r",
        "Receiving objects:  67% (858/1280), 2.82 MiB | 211.00 KiB/s   \r",
        "Receiving objects:  68% (871/1280), 2.82 MiB | 211.00 KiB/s   \r",
        "Receiving objects:  69% (884/1280), 2.82 MiB | 211.00 KiB/s   \r",
        "Receiving objects:  70% (896/1280), 2.82 MiB | 211.00 KiB/s   \r",
        "Receiving objects:  71% (909/1280), 2.82 MiB | 211.00 KiB/s   \r"
       ]
      },
      {
       "output_type": "stream",
       "stream": "stdout",
       "text": [
        "Receiving objects:  71% (920/1280), 3.05 MiB | 237.00 KiB/s   \r",
        "Receiving objects:  72% (922/1280), 3.05 MiB | 237.00 KiB/s   \r",
        "Receiving objects:  73% (935/1280), 3.05 MiB | 237.00 KiB/s   \r",
        "Receiving objects:  74% (948/1280), 3.05 MiB | 237.00 KiB/s   \r",
        "Receiving objects:  75% (960/1280), 3.05 MiB | 237.00 KiB/s   \r",
        "Receiving objects:  76% (973/1280), 3.05 MiB | 237.00 KiB/s   \r",
        "Receiving objects:  77% (986/1280), 3.05 MiB | 237.00 KiB/s   \r"
       ]
      },
      {
       "output_type": "stream",
       "stream": "stdout",
       "text": [
        "Receiving objects:  78% (999/1280), 3.05 MiB | 237.00 KiB/s   \r",
        "Receiving objects:  79% (1012/1280), 3.05 MiB | 237.00 KiB/s   \r",
        "Receiving objects:  80% (1024/1280), 3.05 MiB | 237.00 KiB/s   \r",
        "Receiving objects:  81% (1037/1280), 3.05 MiB | 237.00 KiB/s   \r",
        "Receiving objects:  82% (1050/1280), 3.05 MiB | 237.00 KiB/s   \r",
        "Receiving objects:  83% (1063/1280), 3.05 MiB | 237.00 KiB/s   \r",
        "Receiving objects:  84% (1076/1280), 3.05 MiB | 237.00 KiB/s   \r",
        "Receiving objects:  85% (1088/1280), 3.05 MiB | 237.00 KiB/s   \r",
        "Receiving objects:  86% (1101/1280), 3.05 MiB | 237.00 KiB/s   \r",
        "Receiving objects:  87% (1114/1280), 3.05 MiB | 237.00 KiB/s   \r",
        "Receiving objects:  88% (1127/1280), 3.05 MiB | 237.00 KiB/s   \r",
        "Receiving objects:  89% (1140/1280), 3.05 MiB | 237.00 KiB/s   \r",
        "Receiving objects:  90% (1152/1280), 3.05 MiB | 237.00 KiB/s   \r",
        "remote: Total 1280 (delta 6), reused 1 (delta 0)\u001b[K\r\n",
        "Receiving objects:  91% (1165/1280), 3.05 MiB | 237.00 KiB/s   \r",
        "Receiving objects:  92% (1178/1280), 3.05 MiB | 237.00 KiB/s   \r",
        "Receiving objects:  93% (1191/1280), 3.05 MiB | 237.00 KiB/s   \r",
        "Receiving objects:  94% (1204/1280), 3.05 MiB | 237.00 KiB/s   \r",
        "Receiving objects:  95% (1216/1280), 3.05 MiB | 237.00 KiB/s   \r",
        "Receiving objects:  96% (1229/1280), 3.05 MiB | 237.00 KiB/s   \r",
        "Receiving objects:  97% (1242/1280), 3.05 MiB | 237.00 KiB/s   \r",
        "Receiving objects:  98% (1255/1280), 3.05 MiB | 237.00 KiB/s   \r",
        "Receiving objects:  99% (1268/1280), 3.05 MiB | 237.00 KiB/s   \r",
        "Receiving objects: 100% (1280/1280), 3.05 MiB | 237.00 KiB/s   \r",
        "Receiving objects: 100% (1280/1280), 3.11 MiB | 239.00 KiB/s, done.\r\n",
        "Resolving deltas:   0% (0/630)   \r",
        "Resolving deltas:   1% (8/630)   \r",
        "Resolving deltas:   2% (13/630)   \r",
        "Resolving deltas:   3% (22/630)   \r",
        "Resolving deltas:   6% (39/630)   \r",
        "Resolving deltas:   7% (47/630)   \r",
        "Resolving deltas:   8% (51/630)   \r",
        "Resolving deltas:   9% (59/630)   \r",
        "Resolving deltas:  10% (64/630)   \r",
        "Resolving deltas:  11% (73/630)   \r",
        "Resolving deltas:  13% (84/630)   \r",
        "Resolving deltas:  14% (89/630)   \r",
        "Resolving deltas:  15% (95/630)   \r",
        "Resolving deltas:  16% (101/630)   \r",
        "Resolving deltas:  17% (110/630)   \r",
        "Resolving deltas:  18% (117/630)   \r",
        "Resolving deltas:  19% (120/630)   \r",
        "Resolving deltas:  20% (127/630)   \r",
        "Resolving deltas:  21% (137/630)   \r",
        "Resolving deltas:  23% (151/630)   \r",
        "Resolving deltas:  29% (184/630)   \r",
        "Resolving deltas:  36% (231/630)   \r",
        "Resolving deltas:  38% (243/630)   \r",
        "Resolving deltas:  43% (272/630)   \r",
        "Resolving deltas:  44% (282/630)   \r",
        "Resolving deltas:  45% (288/630)   \r",
        "Resolving deltas:  46% (290/630)   \r",
        "Resolving deltas:  47% (297/630)   \r",
        "Resolving deltas:  48% (303/630)   \r",
        "Resolving deltas:  49% (311/630)   \r",
        "Resolving deltas:  52% (329/630)   \r",
        "Resolving deltas:  56% (356/630)   \r",
        "Resolving deltas:  58% (371/630)   \r",
        "Resolving deltas:  59% (376/630)   \r",
        "Resolving deltas:  61% (387/630)   \r",
        "Resolving deltas:  63% (398/630)   \r",
        "Resolving deltas:  64% (406/630)   \r",
        "Resolving deltas:  65% (415/630)   \r",
        "Resolving deltas:  66% (419/630)   \r",
        "Resolving deltas:  67% (423/630)   \r",
        "Resolving deltas:  68% (431/630)   \r",
        "Resolving deltas:  69% (440/630)   \r",
        "Resolving deltas:  70% (443/630)   \r",
        "Resolving deltas:  72% (454/630)   \r",
        "Resolving deltas:  74% (468/630)   \r",
        "Resolving deltas:  75% (475/630)   \r",
        "Resolving deltas:  77% (491/630)   \r",
        "Resolving deltas:  78% (492/630)   \r",
        "Resolving deltas:  82% (521/630)   \r",
        "Resolving deltas:  84% (535/630)   \r",
        "Resolving deltas:  87% (549/630)   \r",
        "Resolving deltas:  88% (558/630)   \r",
        "Resolving deltas:  90% (567/630)   \r",
        "Resolving deltas:  91% (578/630)   \r",
        "Resolving deltas:  92% (581/630)   \r",
        "Resolving deltas:  93% (590/630)   \r",
        "Resolving deltas:  94% (593/630)   \r",
        "Resolving deltas:  95% (601/630)   \r",
        "Resolving deltas:  96% (606/630)   \r",
        "Resolving deltas:  97% (612/630)   \r",
        "Resolving deltas:  98% (619/630)   \r",
        "Resolving deltas:  99% (625/630)   \r",
        "Resolving deltas: 100% (630/630)   \r",
        "Resolving deltas: 100% (630/630), done.\r\n",
        "Checking connectivity... done.\r\n"
       ]
      }
     ],
     "prompt_number": 8
    },
    {
     "cell_type": "markdown",
     "metadata": {
      "slideshow": {
       "slide_type": "subslide"
      }
     },
     "source": [
      "Let's cd into that directory and check that the contents look right:"
     ]
    },
    {
     "cell_type": "code",
     "collapsed": false,
     "input": [
      "%cd $tgt\n",
      "!ls -alFh"
     ],
     "language": "python",
     "metadata": {
      "slideshow": {
       "slide_type": "fragment"
      }
     },
     "outputs": [
      {
       "output_type": "stream",
       "stream": "stdout",
       "text": [
        "/home/ghacker/.ipython/profile_default/static/custom\n",
        "total 52K\r\n",
        "drwxrwxr-x  9 ghacker ghacker 4.0K Oct 30 20:28 ./\r\n",
        "drwxrwxr-x  3 ghacker ghacker 4.0K Oct 29 22:13 ../\r\n",
        "-rw-rw-r--  1 ghacker ghacker 1.8K Oct 30 20:28 COPYING.rst\r\n",
        "-rw-rw-r--  1 ghacker ghacker 2.5K Oct 30 20:28 custom.example.js\r\n",
        "drwxrwxr-x  8 ghacker ghacker 4.0K Oct 30 20:30 .git/\r\n",
        "-rw-rw-r--  1 ghacker ghacker   21 Oct 30 20:28 .gitignore\r\n",
        "drwxrwxr-x  4 ghacker ghacker 4.0K Oct 30 20:28 publishing/\r\n",
        "-rw-rw-r--  1 ghacker ghacker 1.6K Oct 30 20:28 README.md\r\n",
        "drwxrwxr-x  2 ghacker ghacker 4.0K Oct 30 20:28 slidemode/\r\n",
        "drwxrwxr-x  4 ghacker ghacker 4.0K Oct 30 20:28 styling/\r\n",
        "drwxrwxr-x  5 ghacker ghacker 4.0K Oct 30 20:28 testing/\r\n",
        "drwxrwxr-x 10 ghacker ghacker 4.0K Oct 30 20:28 usability/\r\n",
        "drwxrwxr-x  2 ghacker ghacker 4.0K Oct 30 20:28 wiki-images/\r\n"
       ]
      }
     ],
     "prompt_number": 10
    },
    {
     "cell_type": "markdown",
     "metadata": {
      "slideshow": {
       "slide_type": "subslide"
      }
     },
     "source": [
      "Finally, write out a custom.js file that has activated the slideshow extension. This is simply the provided custom.example.js file, with two lines commented out. Feel free to add more to activate other extensions, as explained in the README.md file:"
     ]
    },
    {
     "cell_type": "code",
     "collapsed": false,
     "input": [
      "%%writefile custom.js\n",
      "// we want strict javascript that fails\n",
      "// on ambiguous syntax\n",
      "\"using strict\";\n",
      "\n",
      "// do not use notebook loaded  event as it is re-triggerd on\n",
      "// revert to checkpoint but this allow extesnsion to be loaded\n",
      "// late enough to work.\n",
      "//\n",
      "\n",
      "$([IPython.events]).on('app_initialized.NotebookApp', function(){\n",
      "\n",
      "\n",
      "    /**  Use path to js file relative to /static/ dir without leading slash, or\n",
      "     *  js extension.\n",
      "     *  Link directly to file is js extension.\n",
      "     *\n",
      "     *  first argument of require is a **list** that can contains several modules if needed.\n",
      "     **/\n",
      "\n",
      "    // require(['custom/noscroll']);\n",
      "    // require(['custom/clean_start'])\n",
      "    // require(['custom/toggle_all_line_number'])\n",
      "    // require(['custom/gist_it']);\n",
      "\n",
      "    /**\n",
      "     *  Link to entrypoint if extesnsion is a folder.\n",
      "     *  to be consistent with commonjs module, the entrypoint is main.js\n",
      "     *  here youcan also trigger a custom function on load that will do extra\n",
      "     *  action with the module if needed\n",
      "     **/\n",
      "     require(['custom/slidemode/main'],function(slidemode){\n",
      "    //     // do stuff\n",
      "     })\n",
      "\n",
      "});"
     ],
     "language": "python",
     "metadata": {
      "slideshow": {
       "slide_type": "fragment"
      }
     },
     "outputs": [
      {
       "output_type": "stream",
       "stream": "stdout",
       "text": [
        "Writing custom.js\n"
       ]
      }
     ],
     "prompt_number": 11
    },
    {
     "cell_type": "markdown",
     "metadata": {
      "slideshow": {
       "slide_type": "slide"
      }
     },
     "source": [
      "That's it! You should now restart your notebook server and reload the pages just to make sure you get fresh CSS. If everything went well, your toolbar should look like this, with a new button highlighted here in red:\n",
      "![](http://nbviewer.ipython.org/github/fperez/nb-slideshow-template/blob/master/toolbar-slideshow.png)"
     ]
    },
    {
     "cell_type": "markdown",
     "metadata": {
      "slideshow": {
       "slide_type": "fragment"
      }
     },
     "source": [
      "That new button is the toggle to enter live slideshow mode, which you can use to switch between the normal editing mode (with the whole notebook as one long scrolling document) and the presentation mode."
     ]
    },
    {
     "cell_type": "markdown",
     "metadata": {
      "slideshow": {
       "slide_type": "fragment"
      }
     },
     "source": [
      "Now that you've read this, look at the accompanying notebook-slideshow-example notebook as a starting illustration of how you can write a presentation-oriented notebook."
     ]
    }
   ],
   "metadata": {}
  }
 ]
}
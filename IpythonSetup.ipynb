{
 "metadata": {
  "name": "",
  "signature": "sha256:35e03e84017ed55a85da1bfcff459b2fc1b429e7f701ae2553e13ea2e92a14c3"
 },
 "nbformat": 3,
 "nbformat_minor": 0,
 "worksheets": [
  {
   "cells": [
    {
     "cell_type": "heading",
     "level": 1,
     "metadata": {},
     "source": [
      "Setup IPython"
     ]
    },
    {
     "cell_type": "heading",
     "level": 2,
     "metadata": {},
     "source": [
      "IPython extensions"
     ]
    },
    {
     "cell_type": "markdown",
     "metadata": {},
     "source": [
      "\uc0ac\uc2e4 \uc774\uac78 \ucc98\uc74c \ud560 \ud544\uc694\ub294 \uc5c6\ub294\ub370 ipython\uc744 \ud55c\ubc88\uc774\ub77c\ub3c4 \uc2e4\ud589\uc2dc\ud0ac \uacbd\uc6b0 `$HOME/.ipython` directory\uac00 \uc0dd\uc131\ub41c\ub2e4.<br>\n",
      "\uc774 \uacbd\uc6b0 \uc544\ub798 git clone \ud558\ub294\ub370 \uc5d0\ub7ec\ub97c \ubc1c\uc0dd\uc2dc\ud0a4\uae30 \ub54c\ubb38\uc5d0 \uc81c\uc77c \uba3c\uc800 setup\ud55c\ub2e4.<br>\n",
      "(\ub531\ud788 \uc124\uc815\ud55c \uac8c \uc5c6\ub294 \uacbd\uc6b0 `$HOME/.ipython` directory\ub97c \ub0a0\ub9ac\uace0 git clone\uc744 \ud558\uba74 \ub41c\ub2e4.)\n",
      "\n",
      "[.ipython repository](https://github.com/gh4ck3r/.ipython)\ub97c `$HOME/.ipython` directory\uc5d0 clone \ud55c\ub2e4.\n",
      "```\n",
      "    $ cd && git clone git@github.com:gh4ck3r/.ipython.git\n",
      "```"
     ]
    },
    {
     "cell_type": "heading",
     "level": 2,
     "metadata": {},
     "source": [
      "IPython Interactive Shell"
     ]
    },
    {
     "cell_type": "markdown",
     "metadata": {},
     "source": [
      "Python/pip \uc124\uce58\ub294 \ub418\uc5b4 \uc788\ub2e4\uace0 \uce58\uace0 \uc544\ub798 command\ub85c ipython\uc744 \uc124\uce58\ud55c\ub2e4.<br>\n",
      "(\uc124\uce58\uc2dc\uc810\uc758 python version\uc740 2.7.6\uc774\ub2e4.)\n",
      "```\n",
      "    $ pip install ipython\n",
      "```"
     ]
    },
    {
     "cell_type": "heading",
     "level": 2,
     "metadata": {},
     "source": [
      "IPython Notebook"
     ]
    },
    {
     "cell_type": "markdown",
     "metadata": {},
     "source": [
      "\uc5ec\uae30\uae4c\uc9c0\ub9cc \ud574\ub3c4 ipython prompt\ub294 \uc0ac\uc6a9\ud560 \uc218 \uc788\uc73c\ub098, notebook \uc0ac\uc6a9\uc744 \uc704\ud574\uc11c\ub294 \ub2e4\ub978 module\ub4e4\uc774 \ub354 \ud544\uc694\ud558\ub2e4.\n",
      "\n",
      "```\n",
      "    $ pip install pyzmq jinja2 tornado\n",
      "```"
     ]
    },
    {
     "cell_type": "markdown",
     "metadata": {},
     "source": [
      "* * *\n",
      "# \uc5ec\uae30\uae4c\uc9c0 \ud588\uc73c\uba74 \uc774\uc81c\ubd80\ud134 ipython notebook\uc73c\ub85c \uc9c4\ud589\ud55c\ub2e4.\n",
      "* * *"
     ]
    },
    {
     "cell_type": "heading",
     "level": 1,
     "metadata": {},
     "source": [
      "Install Extensions"
     ]
    },
    {
     "cell_type": "heading",
     "level": 2,
     "metadata": {},
     "source": [
      "Notebook Extensions"
     ]
    },
    {
     "cell_type": "heading",
     "level": 2,
     "metadata": {},
     "source": [
      "Slideshow"
     ]
    },
    {
     "cell_type": "markdown",
     "metadata": {},
     "source": [
      "\ucd9c\ucc98 : http://nbviewer.ipython.org/github/fperez/nb-slideshow-template/blob/master/install-support.ipynb\n",
      "\n",
      "### Installing the slideshow support\n",
      "\uc544\ub798 \uc124\uce58\ubc29\ubc95\uc740 notebook\ud30c\uc77c\uc744 \ub2e4\uc6b4\ubc1b\uc544 \uc9c1\uc811 \uc2e4\ud589 \uac00\ub2a5\ud558\ub2e4.\n"
     ]
    },
    {
     "cell_type": "code",
     "collapsed": false,
     "input": [
      "profile_dir = get_ipython().profile_dir.location\n",
      "profile_dir"
     ],
     "language": "python",
     "metadata": {},
     "outputs": [
      {
       "metadata": {},
       "output_type": "pyout",
       "prompt_number": 1,
       "text": [
        "u'/home/ghacker/.ipython/profile_default'"
       ]
      }
     ],
     "prompt_number": 1
    },
    {
     "cell_type": "markdown",
     "metadata": {},
     "source": [
      "Slideshow extension\uc744 \ud3ec\ud568\ud558\uace0 \uc788\ub294 [Python extension repository](https://github.com/ipython-contrib/IPython-notebook-extensions)\ub97c Github\ub85c\ubd80\ud130 \uc9c0\uc815\ub41c directory(`$HOME/.ipython/static/custom` directory)\ub85c clone \ud55c\ub2e4.\n",
      " - ***NOTE 1*** \uc5ec\uae30\uc11c\ub294 Python 2.x version\uc744 \uc0ac\uc6a9\ud558\uace0 \uc788\uae30 \ub54c\ubb38\uc5d0 2.x branch\ub97c \ubc1b\ub294\ub2e4.<br>\n",
      " - ***NOTE 2*** `$HOME/.ipython/static/custom` directory\uc5d0 \uae30\ubcf8\uc801\uc73c\ub85c custom.js \uc640 custom.css \ud30c\uc77c\uc774 \uc0dd\uc131\ub418\uc5b4 \uc788\ub2e4.<br>\n",
      "  - \uc774 \uacbd\uc6b0 \uc544\ub798 git clone\uc5d0\uc11c \uc5d0\ub7ec\uac00 \ubc1c\uc0dd\ud55c\ub2e4.(\ud30c\uc77c\ub4e4\uc744 \ubbf8\ub9ac \uc9c0\uc6b0\uac70\ub098 \uc62e\uaca8\ub454\ub2e4.)<br>\n",
      " - ***NOTE 3*** \uc544\ub798 Git repository\uc758 \uc8fc\uc18c\ub294 https://github.com/ipython-contrib/IPython-notebook-extensions/wiki"
     ]
    },
    {
     "cell_type": "code",
     "collapsed": false,
     "input": [
      "import os\n",
      "tgt = os.path.join(profile_dir, 'static', 'custom')\n",
      "!git clone -b 2.x https://github.com/ipython-contrib/IPython-notebook-extensions.git $tgt"
     ],
     "language": "python",
     "metadata": {},
     "outputs": [
      {
       "output_type": "stream",
       "stream": "stdout",
       "text": [
        "Cloning into '/home/ghacker/.ipython/profile_default/static/custom'...\r\n"
       ]
      },
      {
       "output_type": "stream",
       "stream": "stdout",
       "text": [
        "remote: Counting objects: 1311, done.\u001b[K\r\n",
        "remote: Compressing objects:   3% (1/31)   \u001b[K\r",
        "remote: Compressing objects:   6% (2/31)   \u001b[K\r",
        "remote: Compressing objects:   9% (3/31)   \u001b[K\r",
        "remote: Compressing objects:  12% (4/31)   \u001b[K\r",
        "remote: Compressing objects:  16% (5/31)   \u001b[K\r",
        "remote: Compressing objects:  19% (6/31)   \u001b[K\r",
        "remote: Compressing objects:  22% (7/31)   \u001b[K\r",
        "remote: Compressing objects:  25% (8/31)   \u001b[K\r"
       ]
      },
      {
       "output_type": "stream",
       "stream": "stdout",
       "text": [
        "remote: Compressing objects:  29% (9/31)   \u001b[K\r",
        "remote: Compressing objects:  32% (10/31)   \u001b[K\r",
        "remote: Compressing objects:  35% (11/31)   \u001b[K\r",
        "remote: Compressing objects:  38% (12/31)   \u001b[K\r",
        "remote: Compressing objects:  41% (13/31)   \u001b[K\r",
        "remote: Compressing objects:  45% (14/31)   \u001b[K\r",
        "remote: Compressing objects:  48% (15/31)   \u001b[K\r",
        "remote: Compressing objects:  51% (16/31)   \u001b[K\r",
        "remote: Compressing objects:  54% (17/31)   \u001b[K\r",
        "remote: Compressing objects:  58% (18/31)   \u001b[K\r",
        "remote: Compressing objects:  61% (19/31)   \u001b[K\r",
        "remote: Compressing objects:  64% (20/31)   \u001b[K\r",
        "remote: Compressing objects:  67% (21/31)   \u001b[K\r",
        "remote: Compressing objects:  70% (22/31)   \u001b[K\r",
        "remote: Compressing objects:  74% (23/31)   \u001b[K\r",
        "remote: Compressing objects:  77% (24/31)   \u001b[K\r",
        "remote: Compressing objects:  80% (25/31)   \u001b[K\r",
        "remote: Compressing objects:  83% (26/31)   \u001b[K\r",
        "remote: Compressing objects:  87% (27/31)   \u001b[K\r",
        "remote: Compressing objects:  90% (28/31)   \u001b[K\r",
        "remote: Compressing objects:  93% (29/31)   \u001b[K\r",
        "remote: Compressing objects:  96% (30/31)   \u001b[K\r",
        "remote: Compressing objects: 100% (31/31)   \u001b[K\r",
        "remote: Compressing objects: 100% (31/31), done.\u001b[K\r\n"
       ]
      },
      {
       "output_type": "stream",
       "stream": "stdout",
       "text": [
        "Receiving objects:   0% (1/1311)   \r",
        "Receiving objects:   1% (14/1311)   \r",
        "Receiving objects:   2% (27/1311)   \r",
        "Receiving objects:   3% (40/1311)   \r"
       ]
      },
      {
       "output_type": "stream",
       "stream": "stdout",
       "text": [
        "Receiving objects:   4% (53/1311)   \r",
        "Receiving objects:   5% (66/1311)   \r",
        "Receiving objects:   6% (79/1311)   \r",
        "Receiving objects:   7% (92/1311)   \r",
        "Receiving objects:   8% (105/1311)   \r",
        "Receiving objects:   9% (118/1311)   \r",
        "Receiving objects:  10% (132/1311)   \r",
        "Receiving objects:  11% (145/1311)   \r",
        "Receiving objects:  12% (158/1311)   \r"
       ]
      },
      {
       "output_type": "stream",
       "stream": "stdout",
       "text": [
        "Receiving objects:  13% (171/1311), 36.00 KiB | 51.00 KiB/s   \r",
        "Receiving objects:  14% (184/1311), 36.00 KiB | 51.00 KiB/s   \r",
        "Receiving objects:  15% (197/1311), 36.00 KiB | 51.00 KiB/s   \r",
        "Receiving objects:  16% (210/1311), 36.00 KiB | 51.00 KiB/s   \r",
        "Receiving objects:  17% (223/1311), 36.00 KiB | 51.00 KiB/s   \r",
        "Receiving objects:  18% (236/1311), 36.00 KiB | 51.00 KiB/s   \r",
        "Receiving objects:  19% (250/1311), 36.00 KiB | 51.00 KiB/s   \r",
        "Receiving objects:  20% (263/1311), 36.00 KiB | 51.00 KiB/s   \r",
        "Receiving objects:  21% (276/1311), 36.00 KiB | 51.00 KiB/s   \r",
        "Receiving objects:  22% (289/1311), 36.00 KiB | 51.00 KiB/s   \r",
        "Receiving objects:  23% (302/1311), 36.00 KiB | 51.00 KiB/s   \r",
        "Receiving objects:  24% (315/1311), 36.00 KiB | 51.00 KiB/s   \r",
        "Receiving objects:  25% (328/1311), 36.00 KiB | 51.00 KiB/s   \r"
       ]
      },
      {
       "output_type": "stream",
       "stream": "stdout",
       "text": [
        "Receiving objects:  26% (341/1311), 36.00 KiB | 51.00 KiB/s   \r",
        "Receiving objects:  27% (354/1311), 36.00 KiB | 51.00 KiB/s   \r"
       ]
      },
      {
       "output_type": "stream",
       "stream": "stdout",
       "text": [
        "Receiving objects:  28% (368/1311), 36.00 KiB | 51.00 KiB/s   \r"
       ]
      },
      {
       "output_type": "stream",
       "stream": "stdout",
       "text": [
        "Receiving objects:  28% (371/1311), 108.00 KiB | 84.00 KiB/s   \r"
       ]
      },
      {
       "output_type": "stream",
       "stream": "stdout",
       "text": [
        "Receiving objects:  28% (378/1311), 268.00 KiB | 107.00 KiB/s   \r"
       ]
      },
      {
       "output_type": "stream",
       "stream": "stdout",
       "text": [
        "Receiving objects:  28% (378/1311), 364.00 KiB | 117.00 KiB/s   \r"
       ]
      },
      {
       "output_type": "stream",
       "stream": "stdout",
       "text": [
        "Receiving objects:  28% (379/1311), 540.00 KiB | 124.00 KiB/s   \r"
       ]
      },
      {
       "output_type": "stream",
       "stream": "stdout",
       "text": [
        "Receiving objects:  28% (379/1311), 780.00 KiB | 140.00 KiB/s   \r"
       ]
      },
      {
       "output_type": "stream",
       "stream": "stdout",
       "text": [
        "Receiving objects:  28% (380/1311), 868.00 KiB | 128.00 KiB/s   \r"
       ]
      },
      {
       "output_type": "stream",
       "stream": "stdout",
       "text": [
        "Receiving objects:  29% (381/1311), 1.00 MiB | 142.00 KiB/s   \r"
       ]
      },
      {
       "output_type": "stream",
       "stream": "stdout",
       "text": [
        "Receiving objects:  29% (381/1311), 1.16 MiB | 158.00 KiB/s   \r"
       ]
      },
      {
       "output_type": "stream",
       "stream": "stdout",
       "text": [
        "Receiving objects:  29% (382/1311), 1.39 MiB | 173.00 KiB/s   \r"
       ]
      },
      {
       "output_type": "stream",
       "stream": "stdout",
       "text": [
        "Receiving objects:  29% (383/1311), 1.74 MiB | 201.00 KiB/s   \r"
       ]
      },
      {
       "output_type": "stream",
       "stream": "stdout",
       "text": [
        "Receiving objects:  29% (384/1311), 1.85 MiB | 200.00 KiB/s   \r"
       ]
      },
      {
       "output_type": "stream",
       "stream": "stdout",
       "text": [
        "Receiving objects:  29% (386/1311), 2.10 MiB | 247.00 KiB/s   \r",
        "Receiving objects:  30% (394/1311), 2.10 MiB | 247.00 KiB/s   \r",
        "Receiving objects:  31% (407/1311), 2.10 MiB | 247.00 KiB/s   \r",
        "Receiving objects:  32% (420/1311), 2.10 MiB | 247.00 KiB/s   \r"
       ]
      },
      {
       "output_type": "stream",
       "stream": "stdout",
       "text": [
        "Receiving objects:  33% (433/1311), 2.10 MiB | 247.00 KiB/s   \r",
        "Receiving objects:  34% (446/1311), 2.10 MiB | 247.00 KiB/s   \r",
        "Receiving objects:  35% (459/1311), 2.10 MiB | 247.00 KiB/s   \r",
        "Receiving objects:  36% (472/1311), 2.10 MiB | 247.00 KiB/s   \r"
       ]
      },
      {
       "output_type": "stream",
       "stream": "stdout",
       "text": [
        "Receiving objects:  37% (486/1311), 2.21 MiB | 237.00 KiB/s   \r"
       ]
      },
      {
       "output_type": "stream",
       "stream": "stdout",
       "text": [
        "Receiving objects:  37% (492/1311), 2.21 MiB | 237.00 KiB/s   \r"
       ]
      },
      {
       "output_type": "stream",
       "stream": "stdout",
       "text": [
        "Receiving objects:  37% (495/1311), 2.50 MiB | 226.00 KiB/s   \r"
       ]
      },
      {
       "output_type": "stream",
       "stream": "stdout",
       "text": [
        "Receiving objects:  38% (499/1311), 2.68 MiB | 242.00 KiB/s   \r"
       ]
      },
      {
       "output_type": "stream",
       "stream": "stdout",
       "text": [
        "Receiving objects:  38% (502/1311), 2.77 MiB | 223.00 KiB/s   \r"
       ]
      },
      {
       "output_type": "stream",
       "stream": "stdout",
       "text": [
        "Receiving objects:  39% (512/1311), 2.86 MiB | 213.00 KiB/s   \r",
        "Receiving objects:  40% (525/1311), 2.86 MiB | 213.00 KiB/s   \r",
        "Receiving objects:  41% (538/1311), 2.86 MiB | 213.00 KiB/s   \r",
        "Receiving objects:  42% (551/1311), 2.86 MiB | 213.00 KiB/s   \r",
        "Receiving objects:  43% (564/1311), 2.86 MiB | 213.00 KiB/s   \r"
       ]
      },
      {
       "output_type": "stream",
       "stream": "stdout",
       "text": [
        "Receiving objects:  43% (576/1311), 2.86 MiB | 213.00 KiB/s   \r",
        "Receiving objects:  44% (577/1311), 2.86 MiB | 213.00 KiB/s   \r",
        "Receiving objects:  45% (590/1311), 2.86 MiB | 213.00 KiB/s   \r",
        "Receiving objects:  46% (604/1311), 2.86 MiB | 213.00 KiB/s   \r",
        "Receiving objects:  47% (617/1311), 2.86 MiB | 213.00 KiB/s   \r",
        "Receiving objects:  48% (630/1311), 2.86 MiB | 213.00 KiB/s   \r",
        "Receiving objects:  49% (643/1311), 2.86 MiB | 213.00 KiB/s   \r",
        "Receiving objects:  50% (656/1311), 2.86 MiB | 213.00 KiB/s   \r",
        "Receiving objects:  51% (669/1311), 2.86 MiB | 213.00 KiB/s   \r",
        "Receiving objects:  52% (682/1311), 2.86 MiB | 213.00 KiB/s   \r",
        "Receiving objects:  53% (695/1311), 2.86 MiB | 213.00 KiB/s   \r",
        "Receiving objects:  54% (708/1311), 2.86 MiB | 213.00 KiB/s   \r",
        "Receiving objects:  55% (722/1311), 2.86 MiB | 213.00 KiB/s   \r",
        "Receiving objects:  56% (735/1311), 2.86 MiB | 213.00 KiB/s   \r",
        "Receiving objects:  57% (748/1311), 2.86 MiB | 213.00 KiB/s   \r",
        "Receiving objects:  58% (761/1311), 2.86 MiB | 213.00 KiB/s   \r",
        "Receiving objects:  59% (774/1311), 2.86 MiB | 213.00 KiB/s   \r",
        "Receiving objects:  60% (787/1311), 2.86 MiB | 213.00 KiB/s   \r",
        "Receiving objects:  61% (800/1311), 2.86 MiB | 213.00 KiB/s   \r",
        "Receiving objects:  62% (813/1311), 2.86 MiB | 213.00 KiB/s   \r",
        "Receiving objects:  63% (826/1311), 2.86 MiB | 213.00 KiB/s   \r",
        "Receiving objects:  64% (840/1311), 2.86 MiB | 213.00 KiB/s   \r",
        "Receiving objects:  65% (853/1311), 2.86 MiB | 213.00 KiB/s   \r",
        "Receiving objects:  66% (866/1311), 2.86 MiB | 213.00 KiB/s   \r",
        "Receiving objects:  67% (879/1311), 2.86 MiB | 213.00 KiB/s   \r",
        "Receiving objects:  68% (892/1311), 2.86 MiB | 213.00 KiB/s   \r",
        "Receiving objects:  69% (905/1311), 2.86 MiB | 213.00 KiB/s   \r",
        "Receiving objects:  70% (918/1311), 2.86 MiB | 213.00 KiB/s   \r",
        "Receiving objects:  71% (931/1311), 2.86 MiB | 213.00 KiB/s   \r",
        "Receiving objects:  72% (944/1311), 2.86 MiB | 213.00 KiB/s   \r",
        "Receiving objects:  73% (958/1311), 2.86 MiB | 213.00 KiB/s   \r"
       ]
      },
      {
       "output_type": "stream",
       "stream": "stdout",
       "text": [
        "Receiving objects:  74% (971/1311), 3.06 MiB | 229.00 KiB/s   \r",
        "Receiving objects:  75% (984/1311), 3.06 MiB | 229.00 KiB/s   \r",
        "Receiving objects:  76% (997/1311), 3.06 MiB | 229.00 KiB/s   \r",
        "Receiving objects:  77% (1010/1311), 3.06 MiB | 229.00 KiB/s   \r",
        "Receiving objects:  78% (1023/1311), 3.06 MiB | 229.00 KiB/s   \r",
        "Receiving objects:  79% (1036/1311), 3.06 MiB | 229.00 KiB/s   \r",
        "Receiving objects:  80% (1049/1311), 3.06 MiB | 229.00 KiB/s   \r",
        "Receiving objects:  81% (1062/1311), 3.06 MiB | 229.00 KiB/s   \r",
        "Receiving objects:  82% (1076/1311), 3.06 MiB | 229.00 KiB/s   \r",
        "Receiving objects:  83% (1089/1311), 3.06 MiB | 229.00 KiB/s   \r",
        "Receiving objects:  84% (1102/1311), 3.06 MiB | 229.00 KiB/s   \r",
        "Receiving objects:  85% (1115/1311), 3.06 MiB | 229.00 KiB/s   \r",
        "Receiving objects:  86% (1128/1311), 3.06 MiB | 229.00 KiB/s   \r",
        "Receiving objects:  87% (1141/1311), 3.06 MiB | 229.00 KiB/s   \r",
        "Receiving objects:  88% (1154/1311), 3.06 MiB | 229.00 KiB/s   \r",
        "Receiving objects:  89% (1167/1311), 3.06 MiB | 229.00 KiB/s   \r",
        "Receiving objects:  90% (1180/1311), 3.06 MiB | 229.00 KiB/s   \r",
        "Receiving objects:  91% (1194/1311), 3.06 MiB | 229.00 KiB/s   \r",
        "Receiving objects:  92% (1207/1311), 3.06 MiB | 229.00 KiB/s   \r",
        "remote: Total 1311 (delta 9), reused 6 (delta 0)\u001b[K\r\n",
        "Receiving objects:  93% (1220/1311), 3.06 MiB | 229.00 KiB/s   \r",
        "Receiving objects:  94% (1233/1311), 3.06 MiB | 229.00 KiB/s   \r",
        "Receiving objects:  95% (1246/1311), 3.06 MiB | 229.00 KiB/s   \r",
        "Receiving objects:  96% (1259/1311), 3.06 MiB | 229.00 KiB/s   \r",
        "Receiving objects:  97% (1272/1311), 3.06 MiB | 229.00 KiB/s   \r",
        "Receiving objects:  98% (1285/1311), 3.06 MiB | 229.00 KiB/s   \r",
        "Receiving objects:  99% (1298/1311), 3.06 MiB | 229.00 KiB/s   \r",
        "Receiving objects: 100% (1311/1311), 3.06 MiB | 229.00 KiB/s   \r",
        "Receiving objects: 100% (1311/1311), 3.13 MiB | 232.00 KiB/s, done.\r\n",
        "Resolving deltas:   0% (0/642)   \r",
        "Resolving deltas:   1% (8/642)   \r",
        "Resolving deltas:   2% (15/642)   \r",
        "Resolving deltas:   3% (25/642)   \r",
        "Resolving deltas:   4% (28/642)   \r",
        "Resolving deltas:   7% (45/642)   \r",
        "Resolving deltas:   8% (54/642)   \r",
        "Resolving deltas:   9% (60/642)   \r",
        "Resolving deltas:  10% (67/642)   \r",
        "Resolving deltas:  11% (71/642)   \r",
        "Resolving deltas:  13% (86/642)   \r",
        "Resolving deltas:  14% (91/642)   \r",
        "Resolving deltas:  15% (100/642)   \r",
        "Resolving deltas:  16% (103/642)   \r",
        "Resolving deltas:  17% (115/642)   \r",
        "Resolving deltas:  18% (116/642)   \r",
        "Resolving deltas:  19% (122/642)   \r",
        "Resolving deltas:  20% (130/642)   \r",
        "Resolving deltas:  21% (138/642)   \r",
        "Resolving deltas:  23% (151/642)   \r",
        "Resolving deltas:  24% (155/642)   \r",
        "Resolving deltas:  25% (166/642)   \r",
        "Resolving deltas:  26% (167/642)   \r",
        "Resolving deltas:  27% (178/642)   \r",
        "Resolving deltas:  30% (199/642)   \r",
        "Resolving deltas:  36% (233/642)   \r",
        "Resolving deltas:  38% (244/642)   \r",
        "Resolving deltas:  40% (263/642)   \r",
        "Resolving deltas:  44% (288/642)   \r",
        "Resolving deltas:  46% (297/642)   \r",
        "Resolving deltas:  47% (303/642)   \r",
        "Resolving deltas:  49% (317/642)   \r",
        "Resolving deltas:  55% (359/642)   \r",
        "Resolving deltas:  58% (374/642)   \r",
        "Resolving deltas:  60% (387/642)   \r",
        "Resolving deltas:  61% (394/642)   \r",
        "Resolving deltas:  62% (401/642)   \r",
        "Resolving deltas:  64% (411/642)   \r",
        "Resolving deltas:  66% (424/642)   \r",
        "Resolving deltas:  67% (431/642)   \r",
        "Resolving deltas:  68% (440/642)   \r",
        "Resolving deltas:  70% (451/642)   \r",
        "Resolving deltas:  71% (457/642)   \r",
        "Resolving deltas:  72% (463/642)   \r",
        "Resolving deltas:  74% (478/642)   \r",
        "Resolving deltas:  75% (485/642)   \r",
        "Resolving deltas:  76% (494/642)   \r",
        "Resolving deltas:  84% (541/642)   \r",
        "Resolving deltas:  86% (557/642)   \r",
        "Resolving deltas:  87% (561/642)   \r",
        "Resolving deltas:  89% (575/642)   \r",
        "Resolving deltas:  90% (583/642)   \r",
        "Resolving deltas:  91% (585/642)   \r",
        "Resolving deltas:  92% (597/642)   \r",
        "Resolving deltas:  93% (601/642)   \r",
        "Resolving deltas:  94% (606/642)   \r",
        "Resolving deltas:  95% (614/642)   \r",
        "Resolving deltas:  96% (617/642)   \r",
        "Resolving deltas:  97% (623/642)   \r",
        "Resolving deltas:  98% (634/642)   \r",
        "Resolving deltas:  99% (640/642)   \r",
        "Resolving deltas: 100% (642/642)   \r",
        "Resolving deltas: 100% (642/642), done.\r\n"
       ]
      },
      {
       "output_type": "stream",
       "stream": "stdout",
       "text": [
        "Checking connectivity... done.\r\n"
       ]
      }
     ],
     "prompt_number": 2
    },
    {
     "cell_type": "markdown",
     "metadata": {},
     "source": [
      "\uc774\uc81c Slideshow extension\uc744 \ud65c\uc131\ud654 \ud558\uae30 \uc704\ud574 custom.js \ud30c\uc77c\uc744 \uc791\uc131\ud55c\ub2e4.\n",
      "\n",
      "\uc774\ub294 custom.example.js \ud30c\uc77c\uc5d0\uc11c \ub450 \uc904\uc758 comment\ub9cc \uc81c\uac70\ud55c \uac83\uc73c\ub85c \ub2e4\ub978 extension\uc744 \ucd94\uac00\ub85c \ud65c\uc131\ud654 \ud560 \uc218 \uc788\ub2e4.\n",
      "\ub354 \uc790\uc138\ud55c \uc0ac\ud56d\uc740 README.md \ud30c\uc77c \ucc38\uc870"
     ]
    },
    {
     "cell_type": "code",
     "collapsed": false,
     "input": [
      "%cd $tgt"
     ],
     "language": "python",
     "metadata": {},
     "outputs": [
      {
       "output_type": "stream",
       "stream": "stdout",
       "text": [
        "/home/ghacker/.ipython/profile_default/static/custom\n"
       ]
      }
     ],
     "prompt_number": 4
    },
    {
     "cell_type": "code",
     "collapsed": false,
     "input": [
      "%%writefile custom.js\n",
      "// we want strict javascript that fails\n",
      "// on ambiguous syntax\n",
      "\"using strict\";\n",
      "\n",
      "// do not use notebook loaded  event as it is re-triggerd on\n",
      "// revert to checkpoint but this allow extesnsion to be loaded\n",
      "// late enough to work.\n",
      "//\n",
      "\n",
      "$([IPython.events]).on('app_initialized.NotebookApp', function(){\n",
      "\n",
      "\n",
      "    /**  Use path to js file relative to /static/ dir without leading slash, or\n",
      "     *  js extension.\n",
      "     *  Link directly to file is js extension.\n",
      "     *\n",
      "     *  first argument of require is a **list** that can contains several modules if needed.\n",
      "     **/\n",
      "\n",
      "    // require(['custom/noscroll']);\n",
      "    // require(['custom/clean_start'])\n",
      "    // require(['custom/toggle_all_line_number'])\n",
      "    // require(['custom/gist_it']);\n",
      "\n",
      "    /**\n",
      "     *  Link to entrypoint if extesnsion is a folder.\n",
      "     *  to be consistent with commonjs module, the entrypoint is main.js\n",
      "     *  here youcan also trigger a custom function on load that will do extra\n",
      "     *  action with the module if needed\n",
      "     **/\n",
      "     require(['custom/slidemode/main'],function(slidemode){\n",
      "    //     // do stuff\n",
      "     })\n",
      "\n",
      "});"
     ],
     "language": "python",
     "metadata": {},
     "outputs": [
      {
       "output_type": "stream",
       "stream": "stdout",
       "text": [
        "Overwriting custom.js\n"
       ]
      }
     ],
     "prompt_number": 7
    },
    {
     "cell_type": "markdown",
     "metadata": {},
     "source": [
      "\uc124\uce58 \ub05d!!\n",
      "\n",
      "ipython notebook server\ub97c \uc7ac\uac00\ub3d9 \uc2dc\ud0a4\uace0 page\ub97c reload \ud558\uba74 \uc544\ub798 \uadf8\ub9bc\uc758 \ube68\uac04\uc0c9 \ud45c\uc2dc\uacfc \uac19\uc774 icon\uc774 \uc0dd\uae34\ub2e4.<br>\n",
      "(\uc548\uc0dd\uae30\uba74 \ubb54\uac00 \ubb38\uc81c\uac00 \uc788\ub2e4\ub294 \ub73b \uc704 git clone \uc2dc branch \ud655\uc778\uc744 \ubabb\ud574\uc11c icon\uc774 \uc548\ub098\uc624\ub294 \uacbd\uc6b0\uac00 \uc788\uc5c8\uc74c.)\n",
      "![](http://nbviewer.ipython.org/github/fperez/nb-slideshow-template/blob/master/toolbar-slideshow.png)"
     ]
    },
    {
     "cell_type": "markdown",
     "metadata": {},
     "source": [
      "#### Slideshow\ub85c notebook \ub9cc\ub4e4\uae30 sample\n",
      "http://nbviewer.ipython.org/github/fperez/nb-slideshow-template/blob/master/notebook-slideshow-example.ipynb"
     ]
    }
   ],
   "metadata": {}
  }
 ]
}
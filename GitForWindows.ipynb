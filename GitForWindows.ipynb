{
 "metadata": {
  "name": "",
  "signature": "sha256:2c113eaf0fec77f1b238caef6da6079f83cbc1081bb74dbee7b0ec38eb6887dc"
 },
 "nbformat": 3,
 "nbformat_minor": 0,
 "worksheets": [
  {
   "cells": [
    {
     "cell_type": "heading",
     "level": 1,
     "metadata": {},
     "source": [
      "Windows\uc5d0\uc11c Git \uc0ac\uc6a9\ud558\uae30"
     ]
    },
    {
     "cell_type": "markdown",
     "metadata": {},
     "source": [
      "[Git For Windows](http://msysgit.github.io/) \ub97c download \ubc1b\uc544 \uc124\uce58\ud55c\ub2e4.\n",
      "* \uae30\ubcf8 \uc124\uce58 \uacbd\ub85c\n",
      " * ```C:\\Program Files (x86)\\Git```\n",
      "* gitbash \uacbd\ub85c\n",
      " * ```\"C:\\Program Files (x86)\\Git\\bin\\sh.exe\" --login -i```"
     ]
    }
   ],
   "metadata": {}
  }
 ]
}

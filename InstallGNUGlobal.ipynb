{
 "metadata": {
  "name": "",
  "signature": "sha256:cd571d02568f3ec96a059a9bdf554461788df4729aa7c725dbda6518a59c90c6"
 },
 "nbformat": 3,
 "nbformat_minor": 0,
 "worksheets": [
  {
   "cells": [
    {
     "cell_type": "heading",
     "level": 1,
     "metadata": {},
     "source": [
      "GNU GLOBAL"
     ]
    },
    {
     "cell_type": "markdown",
     "metadata": {},
     "source": [
      "## GNU GLOBAL?\n",
      "ctags, cscope \ub4f1\uacfc \uac19\uc740 source code tagging system.\n",
      " - Homepage : http://www.gnu.org/software/global/"
     ]
    },
    {
     "cell_type": "markdown",
     "metadata": {},
     "source": [
      "### \uc7a5\uc810\n",
      " * ctags\ub098 cscope \ubcf4\ub2e4\ub294 source parsing \ub2a5\ub825\uc774 \ub354 \ub6f0\uc5b4\ub09c \uac83\uc73c\ub85c \ubcf4\uc778\ub2e4.\n",
      "\n",
      "### \ub2e8\uc810\n",
      " * \uae30\ubcf8\uc801\uc73c\ub85c \uc9c0\uc6d0\ud558\ub294 \uc5b8\uc5b4 set\uc774 \uc801\ub2e4.\n",
      "  * \uae30\ubcf8 \uc9c0\uc6d0\uc5b8\uc5b4 6\uac1c : C, C++, Yacc, Java, PHP4, assembly. \n",
      "  * Pygments + Exuberant Ctags \ub97c plug-in parser\ub85c \ud65c\uc6a9\ud558\uc5ec cover \uac00\ub2a5\ud558\ub2e4.\n",
      "  * 25\uac1c \ucd94\uac00 \uc5b8\uc5b4 \uc9c0\uc6d0"
     ]
    },
    {
     "cell_type": "markdown",
     "metadata": {},
     "source": [
      "# Install\n",
      "Ubuntu\uc5d0 \uae30\ubcf8 \uc124\uce58\ub41c version\uc774 5.8 \ucbe4 \ub418\ub294 \ubc84\uc804\uc73c\ub85c homepage\uc5d0\uc11c source\ub85c \ub2e4\uc6b4\ubc1b\uc544 \uc124\uce58\ud558\ub294 \uac83\uc774 \ub098\uc744\ub4ef."
     ]
    },
    {
     "cell_type": "markdown",
     "metadata": {},
     "source": [
      "## Download\n",
      " * \ud604\uc7ac latest version : [global-6.3.2.tar.gz](http://tamacom.com/global/global-6.3.2.tar.gz)\n",
      "  * http://www.gnu.org/software/global/download.html"
     ]
    },
    {
     "cell_type": "code",
     "collapsed": false,
     "input": [
      "!mkdir -p ~/tmp/global\n",
      "%cd ~/tmp/global\n",
      "!wget http://tamacom.com/global/global-6.3.2.tar.gz -O global-6.3.2.tar.gz\n",
      "!tar zxf global-6.3.2.tar.gz\n",
      "%cd global-6.3.2"
     ],
     "language": "python",
     "metadata": {},
     "outputs": [
      {
       "output_type": "stream",
       "stream": "stdout",
       "text": [
        "/home/ghacker/tmp/global\n",
        "--2014-11-12 22:19:47--  http://tamacom.com/global/global-6.3.2.tar.gz\r\n",
        "Resolving tamacom.com (tamacom.com)... "
       ]
      },
      {
       "output_type": "stream",
       "stream": "stdout",
       "text": [
        "59.106.191.155\r\n",
        "Connecting to tamacom.com (tamacom.com)|59.106.191.155|:80... "
       ]
      },
      {
       "output_type": "stream",
       "stream": "stdout",
       "text": [
        "connected.\r\n",
        "HTTP request sent, awaiting response... "
       ]
      },
      {
       "output_type": "stream",
       "stream": "stdout",
       "text": [
        "200 OK\r\n",
        "Length: 1386734 (1.3M) [application/x-gzip]\r\n",
        "Saving to: \u2018global-6.3.2.tar.gz\u2019\r\n",
        "\r\n",
        "\r",
        " 0% [                                       ] 0           --.-K/s              "
       ]
      },
      {
       "output_type": "stream",
       "stream": "stdout",
       "text": [
        "\r",
        " 2% [>                                      ] 37,473       159KB/s             "
       ]
      },
      {
       "output_type": "stream",
       "stream": "stdout",
       "text": [
        "\r",
        " 3% [>                                      ] 53,438      42.4KB/s             "
       ]
      },
      {
       "output_type": "stream",
       "stream": "stdout",
       "text": [
        "\r",
        " 4% [>                                      ] 63,574      42.8KB/s             "
       ]
      },
      {
       "output_type": "stream",
       "stream": "stdout",
       "text": [
        "\r",
        " 6% [=>                                     ] 86,742      50.6KB/s             "
       ]
      },
      {
       "output_type": "stream",
       "stream": "stdout",
       "text": [
        "\r",
        "10% [==>                                    ] 138,870     71.3KB/s             "
       ]
      },
      {
       "output_type": "stream",
       "stream": "stdout",
       "text": [
        "\r",
        "15% [=====>                                 ] 219,958      101KB/s             "
       ]
      },
      {
       "output_type": "stream",
       "stream": "stdout",
       "text": [
        "\r",
        "23% [========>                              ] 331,454      137KB/s             "
       ]
      },
      {
       "output_type": "stream",
       "stream": "stdout",
       "text": [
        "\r",
        "33% [============>                          ] 464,670      174KB/s             "
       ]
      },
      {
       "output_type": "stream",
       "stream": "stdout",
       "text": [
        "\r",
        "44% [================>                      ] 616,710      213KB/s             "
       ]
      },
      {
       "output_type": "stream",
       "stream": "stdout",
       "text": [
        "\r",
        "55% [====================>                  ] 765,854      247KB/s  eta 2s     "
       ]
      },
      {
       "output_type": "stream",
       "stream": "stdout",
       "text": [
        "\r",
        "70% [==========================>            ] 971,470      290KB/s  eta 2s     "
       ]
      },
      {
       "output_type": "stream",
       "stream": "stdout",
       "text": [
        "\r",
        "86% [================================>      ] 1,206,046    337KB/s  eta 2s     "
       ]
      },
      {
       "output_type": "stream",
       "stream": "stdout",
       "text": [
        "\r",
        "100%[======================================>] 1,386,734    371KB/s   in 3.7s   \r\n",
        "\r\n",
        "2014-11-12 22:19:51 (371 KB/s) - \u2018global-6.3.2.tar.gz\u2019 saved [1386734/1386734]\r\n",
        "\r\n"
       ]
      },
      {
       "output_type": "stream",
       "stream": "stdout",
       "text": [
        "/home/ghacker/tmp/global/global-6.3.2\n"
       ]
      }
     ],
     "prompt_number": 7
    },
    {
     "cell_type": "markdown",
     "metadata": {},
     "source": [
      "## Prerequisite\n",
      "Exuberant ctags\uac00 \uc124\uce58\ub418\uc5b4 \uc788\ub294\uc9c0 \ud655\uc778\ud55c\ub2e4."
     ]
    },
    {
     "cell_type": "code",
     "collapsed": false,
     "input": [
      "!ctags --version && which ctags"
     ],
     "language": "python",
     "metadata": {},
     "outputs": [
      {
       "output_type": "stream",
       "stream": "stdout",
       "text": [
        "Exuberant Ctags 5.9~svn20110310, Copyright (C) 1996-2009 Darren Hiebert\r\n",
        "  Compiled: Oct  7 2014, 13:52:37\r\n",
        "  Addresses: <dhiebert@users.sourceforge.net>, http://ctags.sourceforge.net\r\n",
        "  Optional compiled features: +wildcards, +regex\r\n",
        "/usr/bin/ctags\r\n"
       ]
      }
     ],
     "prompt_number": 8
    },
    {
     "cell_type": "markdown",
     "metadata": {},
     "source": [
      "## Configure\n",
      "* Exuberant ctags plugin \uc124\uce58 -- from [turorial](http://www.gnu.org/software/global/globaldoc_toc.html#Plug_002din)"
     ]
    },
    {
     "cell_type": "code",
     "collapsed": false,
     "input": [
      "#  --prefix \uc640 --with-exuberant-ctags \uc635\uc158 \uc124\uc815\n",
      "!./configure --prefix=/usr/local --with-exuberant-ctags=$(which ctags)"
     ],
     "language": "python",
     "metadata": {},
     "outputs": [
      {
       "output_type": "stream",
       "stream": "stdout",
       "text": [
        "checking for a BSD-compatible install... /usr/bin/install -c\r\n",
        "checking whether build environment is sane... yes\r\n",
        "checking for a thread-safe mkdir -p... /bin/mkdir -p\r\n",
        "checking for gawk... gawk\r\n",
        "checking whether make sets $(MAKE)... "
       ]
      },
      {
       "output_type": "stream",
       "stream": "stdout",
       "text": [
        "yes\r\n",
        "checking whether make supports nested variables... yes\r\n",
        "checking for gcc... gcc\r\n",
        "checking whether the C compiler works... "
       ]
      },
      {
       "output_type": "stream",
       "stream": "stdout",
       "text": [
        "yes\r\n",
        "checking for C compiler default output file name... a.out\r\n",
        "checking for suffix of executables... \r\n",
        "checking whether we are cross compiling... "
       ]
      },
      {
       "output_type": "stream",
       "stream": "stdout",
       "text": [
        "no\r\n",
        "checking for suffix of object files... "
       ]
      },
      {
       "output_type": "stream",
       "stream": "stdout",
       "text": [
        "o\r\n",
        "checking whether we are using the GNU C compiler... yes\r\n",
        "checking whether gcc accepts -g... yes\r\n",
        "checking for gcc option to accept ISO C89... "
       ]
      },
      {
       "output_type": "stream",
       "stream": "stdout",
       "text": [
        "none needed\r\n",
        "checking whether gcc understands -c and -o together... yes\r\n",
        "checking for style of include used by make... GNU\r\n"
       ]
      },
      {
       "output_type": "stream",
       "stream": "stdout",
       "text": [
        "checking dependency style of gcc... gcc3\r\n",
        "checking whether make sets $(MAKE)... (cached) yes\r\n",
        "checking for emacs... no\r\n",
        "checking for xemacs... no\r\n",
        "checking where .elc files should go... ${datadir}/emacs/site-lisp\r\n",
        "checking for perl... /usr/bin/perl\r\n",
        "checking for ar... ar\r\n",
        "checking for a Python interpreter with version >= 2.6... "
       ]
      },
      {
       "output_type": "stream",
       "stream": "stdout",
       "text": [
        "python\r\n",
        "checking for python... /usr/bin/python\r\n",
        "checking for python version... 2.7\r\n",
        "checking for python platform... linux2\r\n",
        "checking for python script directory... ${prefix}/lib/python2.7/dist-packages\r\n",
        "checking for python extension module directory... "
       ]
      },
      {
       "output_type": "stream",
       "stream": "stdout",
       "text": [
        "${exec_prefix}/lib/python2.7/dist-packages\r\n",
        "checking how to run the C preprocessor... gcc -E\r\n"
       ]
      },
      {
       "output_type": "stream",
       "stream": "stdout",
       "text": [
        "checking for grep that handles long lines and -e... /bin/grep\r\n",
        "checking for egrep... /bin/grep -E\r\n",
        "checking for ANSI C header files... "
       ]
      },
      {
       "output_type": "stream",
       "stream": "stdout",
       "text": [
        "yes\r\n",
        "checking for sys/types.h... yes\r\n"
       ]
      },
      {
       "output_type": "stream",
       "stream": "stdout",
       "text": [
        "checking for sys/stat.h... yes\r\n",
        "checking for stdlib.h... "
       ]
      },
      {
       "output_type": "stream",
       "stream": "stdout",
       "text": [
        "yes\r\n",
        "checking for string.h... "
       ]
      },
      {
       "output_type": "stream",
       "stream": "stdout",
       "text": [
        "yes\r\n",
        "checking for memory.h... "
       ]
      },
      {
       "output_type": "stream",
       "stream": "stdout",
       "text": [
        "yes\r\n",
        "checking for strings.h... yes\r\n",
        "checking for inttypes.h... "
       ]
      },
      {
       "output_type": "stream",
       "stream": "stdout",
       "text": [
        "yes\r\n",
        "checking for stdint.h... "
       ]
      },
      {
       "output_type": "stream",
       "stream": "stdout",
       "text": [
        "yes\r\n",
        "checking for unistd.h... "
       ]
      },
      {
       "output_type": "stream",
       "stream": "stdout",
       "text": [
        "yes\r\n",
        "checking minix/config.h usability... "
       ]
      },
      {
       "output_type": "stream",
       "stream": "stdout",
       "text": [
        "no\r\n",
        "checking minix/config.h presence... no\r\n",
        "checking for minix/config.h... no\r\n",
        "checking whether it is safe to define __EXTENSIONS__... "
       ]
      },
      {
       "output_type": "stream",
       "stream": "stdout",
       "text": [
        "yes\r\n",
        "checking build system type... "
       ]
      },
      {
       "output_type": "stream",
       "stream": "stdout",
       "text": [
        "x86_64-unknown-linux-gnu\r\n",
        "checking host system type... x86_64-unknown-linux-gnu\r\n",
        "checking how to print strings... printf\r\n",
        "checking for a sed that does not truncate output... "
       ]
      },
      {
       "output_type": "stream",
       "stream": "stdout",
       "text": [
        "/bin/sed\r\n",
        "checking for fgrep... /bin/grep -F\r\n",
        "checking for ld used by gcc... /usr/bin/ld\r\n",
        "checking if the linker (/usr/bin/ld) is GNU ld... yes\r\n",
        "checking for BSD- or MS-compatible name lister (nm)... /usr/bin/nm -B\r\n",
        "checking the name lister (/usr/bin/nm -B) interface... BSD nm\r\n",
        "checking whether ln -s works... yes\r\n",
        "checking the maximum length of command line arguments... 1572864\r\n",
        "checking whether the shell understands some XSI constructs... "
       ]
      },
      {
       "output_type": "stream",
       "stream": "stdout",
       "text": [
        "yes\r\n",
        "checking whether the shell understands \"+=\"... yes\r\n",
        "checking how to convert x86_64-unknown-linux-gnu file names to x86_64-unknown-linux-gnu format... func_convert_file_noop\r\n",
        "checking how to convert x86_64-unknown-linux-gnu file names to toolchain format... func_convert_file_noop\r\n",
        "checking for /usr/bin/ld option to reload object files... -r\r\n",
        "checking for objdump... objdump\r\n",
        "checking how to recognize dependent libraries... pass_all\r\n",
        "checking for dlltool... no\r\n",
        "checking how to associate runtime and link libraries... printf %s\\n\r\n",
        "checking for archiver @FILE support... @\r\n",
        "checking for strip... strip\r\n",
        "checking for ranlib... ranlib\r\n",
        "checking command to parse /usr/bin/nm -B output from gcc object... "
       ]
      },
      {
       "output_type": "stream",
       "stream": "stdout",
       "text": [
        "ok\r\n",
        "checking for sysroot... no\r\n"
       ]
      },
      {
       "output_type": "stream",
       "stream": "stdout",
       "text": [
        "checking for mt... mt\r\n",
        "checking if mt is a manifest tool... no\r\n",
        "checking for dlfcn.h... "
       ]
      },
      {
       "output_type": "stream",
       "stream": "stdout",
       "text": [
        "yes\r\n",
        "checking for objdir... .libs\r\n"
       ]
      },
      {
       "output_type": "stream",
       "stream": "stdout",
       "text": [
        "checking if gcc supports -fno-rtti -fno-exceptions... "
       ]
      },
      {
       "output_type": "stream",
       "stream": "stdout",
       "text": [
        "no\r\n",
        "checking for gcc option to produce PIC... -fPIC -DPIC\r\n",
        "checking if gcc PIC flag -fPIC -DPIC works... yes\r\n",
        "checking if gcc static flag -static works... "
       ]
      },
      {
       "output_type": "stream",
       "stream": "stdout",
       "text": [
        "yes\r\n",
        "checking if gcc supports -c -o file.o... yes\r\n",
        "checking if gcc supports -c -o file.o... (cached) yes\r\n",
        "checking whether the gcc linker (/usr/bin/ld -m elf_x86_64) supports shared libraries... yes\r\n",
        "checking whether -lc should be explicitly linked in... "
       ]
      },
      {
       "output_type": "stream",
       "stream": "stdout",
       "text": [
        "no\r\n",
        "checking dynamic linker characteristics... "
       ]
      },
      {
       "output_type": "stream",
       "stream": "stdout",
       "text": [
        "GNU/Linux ld.so\r\n",
        "checking how to hardcode library paths into programs... immediate\r\n",
        "checking for shl_load... "
       ]
      },
      {
       "output_type": "stream",
       "stream": "stdout",
       "text": [
        "no\r\n",
        "checking for shl_load in -ldld... no\r\n",
        "checking for dlopen... "
       ]
      },
      {
       "output_type": "stream",
       "stream": "stdout",
       "text": [
        "no\r\n",
        "checking for dlopen in -ldl... "
       ]
      },
      {
       "output_type": "stream",
       "stream": "stdout",
       "text": [
        "yes\r\n",
        "checking whether a program can dlopen itself... "
       ]
      },
      {
       "output_type": "stream",
       "stream": "stdout",
       "text": [
        "yes\r\n",
        "checking whether a statically linked program can dlopen itself... "
       ]
      },
      {
       "output_type": "stream",
       "stream": "stdout",
       "text": [
        "no\r\n",
        "checking whether stripping libraries is possible... yes\r\n",
        "checking if libtool supports shared libraries... yes\r\n",
        "checking whether to build shared libraries... yes\r\n",
        "checking whether to build static libraries... yes\r\n",
        "checking which extension is used for runtime loadable modules... .so\r\n",
        "checking which variable specifies run-time module search path... LD_LIBRARY_PATH\r\n",
        "checking for the default library search path... /lib /usr/lib /usr/lib/x86_64-linux-gnu/libfakeroot /usr/local/lib /lib/x86_64-linux-gnu /usr/lib/x86_64-linux-gnu /usr/lib/x86_64-linux-gnu/mesa-egl /usr/lib/x86_64-linux-gnu/mesa /lib32 /usr/lib32 /libx32 /usr/libx32 \r\n",
        "checking for library containing dlopen... "
       ]
      },
      {
       "output_type": "stream",
       "stream": "stdout",
       "text": [
        "-ldl\r\n",
        "checking for dlerror... yes\r\n",
        "checking for shl_load... (cached) no\r\n",
        "checking for shl_load in -ldld... (cached) no\r\n",
        "checking for dld_link in -ldld... "
       ]
      },
      {
       "output_type": "stream",
       "stream": "stdout",
       "text": [
        "no\r\n",
        "checking for _ prefix in compiled symbols... "
       ]
      },
      {
       "output_type": "stream",
       "stream": "stdout",
       "text": [
        "no\r\n",
        "checking whether deplibs are loaded by dlopen... yes\r\n",
        "checking for argz.h... yes\r\n",
        "checking for error_t... "
       ]
      },
      {
       "output_type": "stream",
       "stream": "stdout",
       "text": [
        "yes\r\n",
        "checking for argz_add... "
       ]
      },
      {
       "output_type": "stream",
       "stream": "stdout",
       "text": [
        "yes\r\n",
        "checking for argz_append... "
       ]
      },
      {
       "output_type": "stream",
       "stream": "stdout",
       "text": [
        "yes\r\n",
        "checking for argz_count... "
       ]
      },
      {
       "output_type": "stream",
       "stream": "stdout",
       "text": [
        "yes\r\n",
        "checking for argz_create_sep... "
       ]
      },
      {
       "output_type": "stream",
       "stream": "stdout",
       "text": [
        "yes\r\n",
        "checking for argz_insert... "
       ]
      },
      {
       "output_type": "stream",
       "stream": "stdout",
       "text": [
        "yes\r\n",
        "checking for argz_next... "
       ]
      },
      {
       "output_type": "stream",
       "stream": "stdout",
       "text": [
        "yes\r\n",
        "checking for argz_stringify... "
       ]
      },
      {
       "output_type": "stream",
       "stream": "stdout",
       "text": [
        "yes\r\n",
        "checking if argz actually works... yes\r\n",
        "checking whether libtool supports -dlopen/-dlpreopen... yes\r\n",
        "checking for ltdl.h... "
       ]
      },
      {
       "output_type": "stream",
       "stream": "stdout",
       "text": [
        "no\r\n",
        "checking where to find libltdl headers... -I${top_srcdir}/libltdl\r\n",
        "checking where to find libltdl library... ${top_build_prefix}libltdl/libltdlc.la\r\n",
        "checking for unistd.h... (cached) yes\r\n",
        "checking for dl.h... "
       ]
      },
      {
       "output_type": "stream",
       "stream": "stdout",
       "text": [
        "no\r\n",
        "checking for sys/dl.h... "
       ]
      },
      {
       "output_type": "stream",
       "stream": "stdout",
       "text": [
        "no\r\n",
        "checking for dld.h... "
       ]
      },
      {
       "output_type": "stream",
       "stream": "stdout",
       "text": [
        "no\r\n",
        "checking for mach-o/dyld.h... "
       ]
      },
      {
       "output_type": "stream",
       "stream": "stdout",
       "text": [
        "no\r\n",
        "checking for dirent.h... "
       ]
      },
      {
       "output_type": "stream",
       "stream": "stdout",
       "text": [
        "yes\r\n",
        "checking for closedir... "
       ]
      },
      {
       "output_type": "stream",
       "stream": "stdout",
       "text": [
        "yes\r\n",
        "checking for opendir... "
       ]
      },
      {
       "output_type": "stream",
       "stream": "stdout",
       "text": [
        "yes\r\n",
        "checking for readdir... "
       ]
      },
      {
       "output_type": "stream",
       "stream": "stdout",
       "text": [
        "yes\r\n",
        "checking for strlcat... "
       ]
      },
      {
       "output_type": "stream",
       "stream": "stdout",
       "text": [
        "no\r\n",
        "checking for strlcpy... "
       ]
      },
      {
       "output_type": "stream",
       "stream": "stdout",
       "text": [
        "no\r\n",
        "checking limits.h usability... "
       ]
      },
      {
       "output_type": "stream",
       "stream": "stdout",
       "text": [
        "yes\r\n",
        "checking limits.h presence... yes\r\n",
        "checking for limits.h... yes\r\n"
       ]
      },
      {
       "output_type": "stream",
       "stream": "stdout",
       "text": [
        "checking for string.h... (cached) yes\r\n",
        "checking for unistd.h... (cached) yes\r\n",
        "checking stdarg.h usability... "
       ]
      },
      {
       "output_type": "stream",
       "stream": "stdout",
       "text": [
        "yes\r\n",
        "checking stdarg.h presence... yes\r\n",
        "checking for stdarg.h... yes\r\n",
        "checking sys/time.h usability... "
       ]
      },
      {
       "output_type": "stream",
       "stream": "stdout",
       "text": [
        "yes\r\n",
        "checking sys/time.h presence... yes\r\n",
        "checking for sys/time.h... yes\r\n",
        "checking fcntl.h usability... "
       ]
      },
      {
       "output_type": "stream",
       "stream": "stdout",
       "text": [
        "yes\r\n",
        "checking fcntl.h presence... yes\r\n",
        "checking for fcntl.h... yes\r\n"
       ]
      },
      {
       "output_type": "stream",
       "stream": "stdout",
       "text": [
        "checking sys/resource.h usability... "
       ]
      },
      {
       "output_type": "stream",
       "stream": "stdout",
       "text": [
        "yes\r\n",
        "checking sys/resource.h presence... yes\r\n",
        "checking for sys/resource.h... yes\r\n",
        "checking for dirent.h that defines DIR... yes\r\n"
       ]
      },
      {
       "output_type": "stream",
       "stream": "stdout",
       "text": [
        "checking for library containing opendir... "
       ]
      },
      {
       "output_type": "stream",
       "stream": "stdout",
       "text": [
        "none required\r\n",
        "checking for ANSI C header files... (cached) yes\r\n",
        "checking whether stat file-mode macros are broken... no\r\n",
        "checking whether time.h and sys/time.h may both be included... "
       ]
      },
      {
       "output_type": "stream",
       "stream": "stdout",
       "text": [
        "yes\r\n",
        "checking for an ANSI C-conforming const... yes\r\n",
        "checking for off_t... "
       ]
      },
      {
       "output_type": "stream",
       "stream": "stdout",
       "text": [
        "yes\r\n",
        "checking for size_t... "
       ]
      },
      {
       "output_type": "stream",
       "stream": "stdout",
       "text": [
        "yes\r\n",
        "checking for struct stat.st_blksize... "
       ]
      },
      {
       "output_type": "stream",
       "stream": "stdout",
       "text": [
        "yes\r\n",
        "checking whether byte ordering is bigendian... "
       ]
      },
      {
       "output_type": "stream",
       "stream": "stdout",
       "text": [
        "no\r\n",
        "checking for int8_t... "
       ]
      },
      {
       "output_type": "stream",
       "stream": "stdout",
       "text": [
        "yes\r\n",
        "checking for int16_t... "
       ]
      },
      {
       "output_type": "stream",
       "stream": "stdout",
       "text": [
        "yes\r\n",
        "checking for int32_t... "
       ]
      },
      {
       "output_type": "stream",
       "stream": "stdout",
       "text": [
        "yes\r\n",
        "checking for u_int8_t... "
       ]
      },
      {
       "output_type": "stream",
       "stream": "stdout",
       "text": [
        "yes\r\n",
        "checking for u_int16_t... "
       ]
      },
      {
       "output_type": "stream",
       "stream": "stdout",
       "text": [
        "yes\r\n",
        "checking for u_int32_t... "
       ]
      },
      {
       "output_type": "stream",
       "stream": "stdout",
       "text": [
        "yes\r\n",
        "checking for ssize_t... "
       ]
      },
      {
       "output_type": "stream",
       "stream": "stdout",
       "text": [
        "yes\r\n",
        "checking for caddr_t... "
       ]
      },
      {
       "output_type": "stream",
       "stream": "stdout",
       "text": [
        "yes\r\n",
        "checking size of int... "
       ]
      },
      {
       "output_type": "stream",
       "stream": "stdout",
       "text": [
        "4\r\n",
        "checking size of short... "
       ]
      },
      {
       "output_type": "stream",
       "stream": "stdout",
       "text": [
        "2\r\n",
        "checking size of char... "
       ]
      },
      {
       "output_type": "stream",
       "stream": "stdout",
       "text": [
        "1\r\n",
        "checking for working alloca.h... yes\r\n",
        "checking for alloca... "
       ]
      },
      {
       "output_type": "stream",
       "stream": "stdout",
       "text": [
        "yes\r\n",
        "checking for stdlib.h... (cached) yes\r\n",
        "checking for unistd.h... (cached) yes\r\n"
       ]
      },
      {
       "output_type": "stream",
       "stream": "stdout",
       "text": [
        "checking for sys/param.h... "
       ]
      },
      {
       "output_type": "stream",
       "stream": "stdout",
       "text": [
        "yes\r\n",
        "checking for getpagesize... "
       ]
      },
      {
       "output_type": "stream",
       "stream": "stdout",
       "text": [
        "yes\r\n",
        "checking for working mmap... "
       ]
      },
      {
       "output_type": "stream",
       "stream": "stdout",
       "text": [
        "yes\r\n",
        "checking for working memcmp... "
       ]
      },
      {
       "output_type": "stream",
       "stream": "stdout",
       "text": [
        "yes\r\n",
        "checking return type of signal handlers... "
       ]
      },
      {
       "output_type": "stream",
       "stream": "stdout",
       "text": [
        "void\r\n",
        "checking for strftime... "
       ]
      },
      {
       "output_type": "stream",
       "stream": "stdout",
       "text": [
        "yes\r\n",
        "checking for getcwd... "
       ]
      },
      {
       "output_type": "stream",
       "stream": "stdout",
       "text": [
        "yes\r\n",
        "checking for putenv... "
       ]
      },
      {
       "output_type": "stream",
       "stream": "stdout",
       "text": [
        "yes\r\n",
        "checking for lstat... "
       ]
      },
      {
       "output_type": "stream",
       "stream": "stdout",
       "text": [
        "yes\r\n",
        "checking for snprintf... yes\r\n",
        "checking for index... "
       ]
      },
      {
       "output_type": "stream",
       "stream": "stdout",
       "text": [
        "yes\r\n",
        "checking for rindex... "
       ]
      },
      {
       "output_type": "stream",
       "stream": "stdout",
       "text": [
        "yes\r\n",
        "checking for bzero... "
       ]
      },
      {
       "output_type": "stream",
       "stream": "stdout",
       "text": [
        "yes\r\n",
        "checking for bcmp... "
       ]
      },
      {
       "output_type": "stream",
       "stream": "stdout",
       "text": [
        "yes\r\n"
       ]
      },
      {
       "output_type": "stream",
       "stream": "stdout",
       "text": [
        "checking for bcopy... "
       ]
      },
      {
       "output_type": "stream",
       "stream": "stdout",
       "text": [
        "yes\r\n",
        "checking for strchr... "
       ]
      },
      {
       "output_type": "stream",
       "stream": "stdout",
       "text": [
        "yes\r\n",
        "checking for strrchr... "
       ]
      },
      {
       "output_type": "stream",
       "stream": "stdout",
       "text": [
        "yes\r\n",
        "checking for memset... "
       ]
      },
      {
       "output_type": "stream",
       "stream": "stdout",
       "text": [
        "yes\r\n",
        "checking for memcmp... "
       ]
      },
      {
       "output_type": "stream",
       "stream": "stdout",
       "text": [
        "yes\r\n",
        "checking for memmove... "
       ]
      },
      {
       "output_type": "stream",
       "stream": "stdout",
       "text": [
        "yes\r\n",
        "checking for putc_unlocked... "
       ]
      },
      {
       "output_type": "stream",
       "stream": "stdout",
       "text": [
        "yes\r\n",
        "checking for getc_unlocked... "
       ]
      },
      {
       "output_type": "stream",
       "stream": "stdout",
       "text": [
        "yes\r\n",
        "checking for gettimeofday... "
       ]
      },
      {
       "output_type": "stream",
       "stream": "stdout",
       "text": [
        "yes\r\n",
        "checking for getrusage... "
       ]
      },
      {
       "output_type": "stream",
       "stream": "stdout",
       "text": [
        "yes\r\n",
        "checking whether we are using the GNU DJGPP compiler... "
       ]
      },
      {
       "output_type": "stream",
       "stream": "stdout",
       "text": [
        "no\r\n",
        "configure: checking \"location of ncurses.h file\"...\r\n",
        "Found ncurses on /usr/include/ncurses.h\r\n",
        "checking for ncurses version... 5.9\r\n",
        "checking for an ANSI C-conforming const... (cached) yes\r\n",
        "checking for mode_t... "
       ]
      },
      {
       "output_type": "stream",
       "stream": "stdout",
       "text": [
        "yes\r\n",
        "checking for pid_t... "
       ]
      },
      {
       "output_type": "stream",
       "stream": "stdout",
       "text": [
        "yes\r\n",
        "checking for size_t... (cached) yes\r\n",
        "checking for sighandler_t... "
       ]
      },
      {
       "output_type": "stream",
       "stream": "stdout",
       "text": [
        "no\r\n",
        "checking for sigsetjmp... yes\r\n",
        "checking for fixkeypad... "
       ]
      },
      {
       "output_type": "stream",
       "stream": "stdout",
       "text": [
        "no\r\n"
       ]
      },
      {
       "output_type": "stream",
       "stream": "stdout",
       "text": [
        "checking for strerror... "
       ]
      },
      {
       "output_type": "stream",
       "stream": "stdout",
       "text": [
        "yes\r\n",
        "checking for home-etc support... no\r\n",
        "checking for pread/pwrite support... no\r\n",
        "checking for exuberant ctags program... using /usr/bin/ctags\r\n",
        "checking whether exuberant ctags --gtags works... no\r\n",
        "checking for POSIX sort program... using /usr/bin/sort\r\n",
        "checking default mode of sitekeys directory... 755\r\n"
       ]
      },
      {
       "output_type": "stream",
       "stream": "stdout",
       "text": [
        "checking that generated files are newer than configure... done\r\n",
        "configure: creating ./config.status\r\n"
       ]
      },
      {
       "output_type": "stream",
       "stream": "stdout",
       "text": [
        "config.status: creating Makefile\r\n",
        "config.status: creating gtags.conf\r\n",
        "config.status: creating Doxyfile\r\n"
       ]
      },
      {
       "output_type": "stream",
       "stream": "stdout",
       "text": [
        "config.status: creating libutil/langmap.h\r\n",
        "config.status: creating htags/global.cgi.tmpl\r\n",
        "config.status: creating htags/completion.cgi.tmpl\r\n"
       ]
      },
      {
       "output_type": "stream",
       "stream": "stdout",
       "text": [
        "config.status: creating libutil/Makefile\r\n",
        "config.status: creating gtags/Makefile\r\n",
        "config.status: creating htags/Makefile\r\n"
       ]
      },
      {
       "output_type": "stream",
       "stream": "stdout",
       "text": [
        "config.status: creating libdb/Makefile\r\n",
        "config.status: creating global/Makefile\r\n",
        "config.status: creating gozilla/Makefile\r\n"
       ]
      },
      {
       "output_type": "stream",
       "stream": "stdout",
       "text": [
        "config.status: creating gtags-cscope/Makefile\r\n",
        "config.status: creating globash/Makefile\r\n"
       ]
      },
      {
       "output_type": "stream",
       "stream": "stdout",
       "text": [
        "config.status: creating htags-refkit/Makefile\r\n",
        "config.status: creating htags-server/Makefile\r\n",
        "config.status: creating libglibc/Makefile\r\n"
       ]
      },
      {
       "output_type": "stream",
       "stream": "stdout",
       "text": [
        "config.status: creating doc/Makefile\r\n",
        "config.status: creating icons/Makefile\r\n"
       ]
      },
      {
       "output_type": "stream",
       "stream": "stdout",
       "text": [
        "config.status: creating jquery/Makefile\r\n",
        "config.status: creating jquery/images/Makefile\r\n",
        "config.status: creating script/Makefile\r\n"
       ]
      },
      {
       "output_type": "stream",
       "stream": "stdout",
       "text": [
        "config.status: creating libparser/Makefile\r\n",
        "config.status: creating plugin-factory/Makefile\r\n"
       ]
      },
      {
       "output_type": "stream",
       "stream": "stdout",
       "text": [
        "config.status: creating plugin-factory/pygments_parser.py\r\n",
        "config.status: creating libltdl/Makefile\r\n",
        "config.status: creating config.h\r\n",
        "config.status: config.h is unchanged\r\n",
        "config.status: executing depfiles commands\r\n"
       ]
      },
      {
       "output_type": "stream",
       "stream": "stdout",
       "text": [
        "config.status: executing libtool commands\r\n"
       ]
      }
     ],
     "prompt_number": 10
    },
    {
     "cell_type": "markdown",
     "metadata": {},
     "source": [
      "## Build & Install"
     ]
    },
    {
     "cell_type": "code",
     "collapsed": true,
     "input": [
      "# Install\uc2dc root \uad8c\ud55c \ud544\uc694\ud568\n",
      "!make && sudo make install"
     ],
     "language": "python",
     "metadata": {},
     "outputs": []
    },
    {
     "cell_type": "heading",
     "level": 1,
     "metadata": {},
     "source": [
      "Configuration"
     ]
    },
    {
     "cell_type": "markdown",
     "metadata": {},
     "source": [
      "## Configuration file \uc0dd\uc131\n",
      "configure \uc2dc ```--prefix``` option\uc744 ```/usr/local```\ub85c \ud55c \uacbd\uc6b0 install \ud6c4 \uae30\ubcf8 \uc124\uc815 \ud30c\uc77c\uc774 ```/usr/local/share/gtags/gtags.conf```\uc5d0 \ub9cc\ub4e4\uc5b4\uc838 \uc788\ub2e4.<br>\n",
      "```/etc/gtags.conf```\ub85c link\ub97c \uac74\ub2e4"
     ]
    },
    {
     "cell_type": "code",
     "collapsed": false,
     "input": [
      "%ls -alFh /usr/local/share/gtags/gtags.conf\n",
      "# root permission required\n",
      "#!sudo ln -s /usr/local/share/gtags/gtags.conf /etc/gtags.conf\n",
      "%ls -alFh /etc/gtags.conf"
     ],
     "language": "python",
     "metadata": {},
     "outputs": [
      {
       "output_type": "stream",
       "stream": "stdout",
       "text": [
        "-rw-r--r-- 1 root root 20K Nov 12 19:51 /usr/local/share/gtags/gtags.conf\r\n"
       ]
      },
      {
       "output_type": "stream",
       "stream": "stdout",
       "text": [
        "lrwxrwxrwx 1 root root 33 Nov 12 22:02 \u001b[0m\u001b[01;04;36m/etc/gtags.conf\u001b[0m -> /usr/local/share/gtags/gtags.conf\r\n"
       ]
      }
     ],
     "prompt_number": 4
    },
    {
     "cell_type": "markdown",
     "metadata": {},
     "source": [
      "## Configuration file \uc218\uc815\n",
      "### Exuberant ctags \uc0ac\uc6a9\n",
      "```gtags.conf``` \ud30c\uc77c\uc744 \uc5f4\uc5b4\ubcf4\uba74 \uc0c1\ub2e8\uc5d0 \uc544\ub798\uc640 \uac19\uc774 \uae30\ub85d\ub418\uc5b4 \uc788\ub2e4.\n",
      "\uc774 \uc124\uc815\uc73c\ub85c \uc0ac\uc6a9 \uc2dc \uae30\ubcf8 \uc9c0\uc6d0\uc5b8\uc5b4 6\uac1c\uc5d0 \ub300\ud574\uc11c\ub9cc parsing\uc774 \uac00\ub2a5\ud558\ub2e4.\n",
      "\n",
      "    default:\\\n",
      "        :tc=native:\n",
      "\n",
      "Exuberant ctags \ub97c \uae30\ubcf8\uc801\uc73c\ub85c \uc0ac\uc6a9\ud558\ub3c4\ub85d ```tc=ctags```\ub97c \ucd94\uac00\ud55c\ub2e4.\n",
      "\uc774\ub97c \uc774\uc6a9\ud574 \ucd94\uac00 \uc5b8\uc5b4\ub4e4\ub3c4 parsing\uc774 \uac00\ub2a5\ud574\uc9c4\ub2e4.\n",
      "\n",
      "    default:\\\n",
      "        :tc=native:tc=ctags\n",
      "\n",
      "### Language map\uc5d0 \ud655\uc7a5\uc790 \ucd94\uac00\n",
      "\uc544\ub798\uc640 \uac19\uc774 JavaScript language map\uc5d0 .jsm \ud655\uc7a5\uc790\ub97c \ucd94\uac00\ud55c\ub2e4.\n",
      "\n",
      "    :langmap=JavaScript\\:.js.jsm:\\\n",
      "\uae30\ud0c0 \ud655\uc7a5\uc790\ub3c4 \ud544\uc694\uc5d0 \ub530\ub77c \ucd94\uac00\ud55c\ub2e4."
     ]
    },
    {
     "cell_type": "markdown",
     "metadata": {},
     "source": [
      "--------------------------------------------------\n",
      "### ***IDL\ub3c4 \ud574\uc57c\ud558\ub098???***"
     ]
    }
   ],
   "metadata": {}
  }
 ]
}
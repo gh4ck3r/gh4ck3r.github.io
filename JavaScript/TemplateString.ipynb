{
 "metadata": {
  "name": "",
  "signature": "sha256:c4da26d3d4ae7dbc76e1e6385801f654674f2368bc8a0b57db4b1ebcec22dd84"
 },
 "nbformat": 3,
 "nbformat_minor": 0,
 "worksheets": [
  {
   "cells": [
    {
     "cell_type": "heading",
     "level": 1,
     "metadata": {},
     "source": [
      "Template String"
     ]
    },
    {
     "cell_type": "markdown",
     "metadata": {
      "variables": {}
     },
     "source": [
      "* JavaScript supports '**Format String**' these days under the name of \"Template String\".\n",
      "    * See [Template strings](https://developer.mozilla.org/ko/docs/Web/JavaScript/Reference/template_strings) in MDN.\n",
      "* This is part of ECMAScript 6"
     ]
    },
    {
     "cell_type": "heading",
     "level": 2,
     "metadata": {},
     "source": [
      "Syntax"
     ]
    },
    {
     "cell_type": "markdown",
     "metadata": {
      "variables": {}
     },
     "source": [
      "* Template String is represented with **back-tick (`)**, **dollar sign($)** and **curly braces('{' and '}')**.\n",
      "* Template String has below form.\n",
      "    * **`**Static string **$**{<***expressions***>}**`**\n",
      "    * ***```${<expressions>}```*** can be shown multiple times\n",
      "    * ***```${<expressions>}```*** will be evaluated JavaScript String"
     ]
    },
    {
     "cell_type": "heading",
     "level": 2,
     "metadata": {},
     "source": [
      "Example"
     ]
    },
    {
     "cell_type": "code",
     "collapsed": false,
     "input": [
      "%%javascript\n",
      "// Show basic template string\n",
      "(function() {\n",
      "    var target = 'world';\n",
      "    element.append(`hello ${target + '!!'}`);\n",
      "})();"
     ],
     "language": "python",
     "metadata": {
      "code_folding": [
       2
      ]
     },
     "outputs": [
      {
       "javascript": [
        "// Show basic template string\n",
        "(function() {\n",
        "    var target = 'world';\n",
        "    element.append(`hello ${target + '!!'}`);\n",
        "})();"
       ],
       "metadata": {},
       "output_type": "display_data",
       "text": [
        "<IPython.core.display.Javascript at 0x7f9d5591e150>"
       ]
      }
     ],
     "prompt_number": 23
    },
    {
     "cell_type": "heading",
     "level": 1,
     "metadata": {},
     "source": [
      "Tagged Template String"
     ]
    },
    {
     "cell_type": "markdown",
     "metadata": {
      "variables": {}
     },
     "source": [
      "* Tagged Template String is advanced form of Template String\n",
      "* Template String can be processed with a function"
     ]
    },
    {
     "cell_type": "heading",
     "level": 2,
     "metadata": {},
     "source": [
      "Syntax"
     ]
    },
    {
     "cell_type": "markdown",
     "metadata": {
      "variables": {}
     },
     "source": [
      "* Tagged Template String have below form.\n",
      "    * *tag* **`**Static string **$**{<***expressions***>}**`**\n",
      "    * *tag* is a function that receives string and expressions as its parameter\n",
      "    * Name of *tag* can be changed."
     ]
    },
    {
     "cell_type": "heading",
     "level": 2,
     "metadata": {},
     "source": [
      "Example"
     ]
    },
    {
     "cell_type": "code",
     "collapsed": false,
     "input": [
      "%%javascript\n",
      "var a = 5;\n",
      "var b = 10;\n",
      "\n",
      "function tag(strings, ...values) {\n",
      "  element.append(strings[0]+'<br/>'); // \"Hello \"\n",
      "  element.append(strings[1]+'<br/>'); // \" world\"\n",
      "  element.append(values[0]+'<br/>');  // 15\n",
      "  element.append(values[1]+'<br/>');  // 50\n",
      "  element.append('<br/>');\n",
      "\n",
      "  return \"Bazinga!\";\n",
      "}\n",
      "\n",
      "element.append(tag`Hello ${ a + b } world ${ a * b}`);\n",
      "// \"Bazinga!\""
     ],
     "language": "python",
     "metadata": {},
     "outputs": [
      {
       "javascript": [
        "var a = 5;\n",
        "var b = 10;\n",
        "\n",
        "function tag(strings, ...values) {\n",
        "  element.append(strings[0]+'<br/>'); // \"Hello \"\n",
        "  element.append(strings[1]+'<br/>'); // \" world\"\n",
        "  element.append(values[0]+'<br/>');  // 15\n",
        "  element.append(values[1]+'<br/>');  // 50\n",
        "  element.append('<br/>');\n",
        "\n",
        "  return \"Bazinga!\";\n",
        "}\n",
        "\n",
        "element.append(tag`Hello ${ a + b } world ${ a * b}`);\n",
        "// \"Bazinga!\""
       ],
       "metadata": {},
       "output_type": "display_data",
       "text": [
        "<IPython.core.display.Javascript at 0x7f9d583f3ed0>"
       ]
      }
     ],
     "prompt_number": 37
    }
   ],
   "metadata": {}
  }
 ]
}
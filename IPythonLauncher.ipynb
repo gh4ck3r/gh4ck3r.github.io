{
 "metadata": {
  "name": "",
  "signature": "sha256:9367ad4ae3a6cfdf90759751049454f768f740eb38730184de157e1a469831bd"
 },
 "nbformat": 3,
 "nbformat_minor": 0,
 "worksheets": [
  {
   "cells": [
    {
     "cell_type": "markdown",
     "metadata": {},
     "source": [
      "# IPython Launcher for Unity of Ubuntu\n",
      " * IPython Notebook \uae30\ub2a5\uc744 Ubuntu\uc758 Unity launcher\ub97c \uc774\uc6a9\ud574\uc11c \uc0ac\uc6a9\ud560 \uc218 \uc788\ub3c4\ub85d \uc124\uc815\ud55c\ub2e4."
     ]
    },
    {
     "cell_type": "markdown",
     "metadata": {},
     "source": [
      "## Icon \uc900\ube44\n",
      " * /usr/share/pixmaps/ipython-notebook.png \uc73c\ub85c \ubcf5\uc0ac\n",
      " ![](http://ipython.org/ipython-doc/dev/_images/ipynb_icon_128x128.png)\n",
      " **NOTE** Root permission \ud544\uc694\n",
      "```sh\n",
      "sudo wget http://ipython.org/ipython-doc/dev/_images/ipynb_icon_128x128.png -O /usr/share/pixmaps/ipython-notebook.png\n",
      "```"
     ]
    },
    {
     "cell_type": "markdown",
     "metadata": {},
     "source": [
      "# Launcher \uc0dd\uc131\n",
      "* /usr/share/application/ipython-notebook.desktop \uc791\uc131"
     ]
    },
    {
     "cell_type": "markdown",
     "metadata": {},
     "source": [
      " * **NOTE 1** Root permission \ud544\uc694\n",
      " * **NOTE 2** Working directory, Notebook directory\ub294 ~/Documents \ub85c hard coding \ub418\uc5b4 \uc788\uc74c\n",
      "\n",
      "```\n",
      "%%writefile /usr/share/application/ipython-notebook.desktop\n",
      "[Desktop Entry]\n",
      "Name=IPython Notebook\n",
      "Comment=IPython Notebook\n",
      "Exec=ipython notebook --notebook-dir=~/Documents --ip=0.0.0.0 --no-browser\n",
      "Icon=ipython-notebook\n",
      "Terminal=true\n",
      "Type=Application\n",
      "Categories=Development;\n",
      "StartupNotify=true\n",
      "Actions=OpenTerminal;OpenNautilus;ConvertSlides;\n",
      "\n",
      "[Desktop Action OpenTerminal]\n",
      "Name=Open Terminal\n",
      "Exec=terminator --working-directory=~/Documents\n",
      "OnlyShowIn=Unity;\n",
      "\n",
      "[Desktop Action OpenNautilus]\n",
      "Name=Open Nautilus\n",
      "Exec=nautilus Documents\n",
      "OnlyShowIn=Unity;\n",
      "\n",
      "[Desktop Action ConvertSlides]\n",
      "Name=Convert Slides\n",
      "Exec=ipython-slides\n",
      "OnlyShowIn=Unity;\n",
      "```"
     ]
    },
    {
     "cell_type": "markdown",
     "metadata": {},
     "source": [
      "# Slide viewer \uc124\uce58\n",
      "* \uc704 Desktop Action \ud56d\ubaa9 \uc911 \"ConvertSlides\"\uc744 \ucc98\ub9ac\ud560 ```ipython-slides``` \uc791\uc131\n",
      "nbconvert\ub97c \uc2e4\ud589\ud574\uc904 ipython-slides \uc0dd\uc131"
     ]
    },
    {
     "cell_type": "markdown",
     "metadata": {},
     "source": [
      " * **NOTE** Root permission \ud544\uc694\n",
      " \n",
      "```\n",
      "%%writefile /opt/bin/ipython-slides\n",
      "#!/bin/bash\n",
      "\n",
      "target=$(zenity \\\n",
      "    --filename=/$HOME/Documents/ \\\n",
      "    --file-selection \\\n",
      "    --file-filter=\"IPython Notebook|*.ipynb\" \\\n",
      "  )\n",
      "if [[ $? = 0 ]] ;then\n",
      "  gnome-terminal --disable-factory \\\n",
      "                 --working-directory=\"$(dirname $target)\" \\\n",
      "                 -x ipython nbconvert \"$target\" --to slides --post serve\n",
      "  rm -f \"${target%.*}.slides.html\"\n",
      "fi\n",
      "```"
     ]
    }
   ],
   "metadata": {}
  }
 ]
}
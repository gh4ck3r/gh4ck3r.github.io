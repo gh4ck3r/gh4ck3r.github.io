{
 "metadata": {
  "name": "",
  "signature": "sha256:f62128bc1376e272eb23211feb3edc582142b963764d8f435f35968d3c567c89"
 },
 "nbformat": 3,
 "nbformat_minor": 0,
 "worksheets": [
  {
   "cells": [
    {
     "cell_type": "markdown",
     "metadata": {},
     "source": [
      "#IPython Launcher for Unity of Ubuntu"
     ]
    },
    {
     "cell_type": "markdown",
     "metadata": {},
     "source": [
      "* ipython-notebook.desktop \ud56d\ubaa9 \ud544\uc694\n",
      "* Icon\uc740 \uc774\uac8c \uc801\ub2f9\ud55c\ub4ef.\n",
      " * /usr/share/pixmaps/ipython-notebook.png \uc73c\ub85c \ubcf5\uc0ac\n",
      " ![](http://ipython.org/ipython-doc/dev/_images/ipynb_icon_128x128.png)"
     ]
    },
    {
     "cell_type": "raw",
     "metadata": {},
     "source": [
      "%%writefile /usr/share/application/ipython-notebook.desktop\n",
      "[Desktop Entry]\n",
      "Name=IPython Notebook\n",
      "Comment=IPython Notebook\n",
      "Exec=ipython notebook --notebook-dir=~/Documents --ip=0.0.0.0 --no-browser\n",
      "Icon=ipython-notebook\n",
      "Terminal=true\n",
      "Type=Application\n",
      "Categories=Development;\n",
      "StartupNotify=true\n",
      "Actions=OpenTerminal;OpenNautilus;ConvertSlides;\n",
      "\n",
      "[Desktop Action OpenTerminal]\n",
      "Name=Open Terminal\n",
      "Exec=terminator --working-directory=~/Documents\n",
      "OnlyShowIn=Unity;\n",
      "\n",
      "[Desktop Action OpenNautilus]\n",
      "Name=Open Nautilus\n",
      "Exec=nautilus Documents\n",
      "OnlyShowIn=Unity;\n",
      "\n",
      "[Desktop Action ConvertSlides]\n",
      "Name=Convert Slides\n",
      "Exec=ipython-slides\n",
      "OnlyShowIn=Unity;"
     ]
    },
    {
     "cell_type": "markdown",
     "metadata": {},
     "source": [
      "nbconvert\ub97c \uc2e4\ud589\ud574\uc904 ipython-slides \uc0dd\uc131"
     ]
    },
    {
     "cell_type": "raw",
     "metadata": {},
     "source": [
      "%%writefile /opt/bin/ipython-slides\n",
      "#!/bin/bash\n",
      "\n",
      "target=$(zenity \\\n",
      "    --filename=/$HOME/Documents/ \\\n",
      "    --file-selection \\\n",
      "    --file-filter=\"IPython Notebook|*.ipynb\" \\\n",
      "  )\n",
      "if [[ $? = 0 ]] ;then\n",
      "  gnome-terminal --disable-factory \\\n",
      "                 --working-directory=\"$(dirname $target)\" \\\n",
      "                 -x ipython nbconvert \"$target\" --to slides --post serve\n",
      "  rm -f \"${target%.*}.slides.html\"\n",
      "fi"
     ]
    }
   ],
   "metadata": {}
  }
 ]
}
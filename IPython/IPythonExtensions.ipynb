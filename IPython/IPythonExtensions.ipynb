{
 "metadata": {
  "name": "",
  "signature": "sha256:7c4850a9b149ef561362b34efb7df991f66bce0bbb9cc19c6cbad8c3bf261d29"
 },
 "nbformat": 3,
 "nbformat_minor": 0,
 "worksheets": [
  {
   "cells": [
    {
     "cell_type": "heading",
     "level": 1,
     "metadata": {},
     "source": [
      "Usability"
     ]
    },
    {
     "cell_type": "heading",
     "level": 2,
     "metadata": {},
     "source": [
      "Code Folding"
     ]
    },
    {
     "cell_type": "markdown",
     "metadata": {
      "variables": {}
     },
     "source": [
      "* Code cell\uc758 code\ub97c folding\ud560 \uc218 \uc788\uac8c \ud574\uc900\ub2e4.\n",
      "* markdown cell\uc5d0 \uc788\ub294 code\uc5d0\ub294 \uc801\uc6a9 \uc548\ub428."
     ]
    },
    {
     "cell_type": "heading",
     "level": 3,
     "metadata": {},
     "source": [
      "Loading"
     ]
    },
    {
     "cell_type": "code",
     "collapsed": false,
     "input": [
      "%%javascript\n",
      "IPython.load_extensions('usability/codefolding/codefolding');"
     ],
     "language": "python",
     "metadata": {
      "code_folding": [
       3
      ]
     },
     "outputs": [
      {
       "javascript": [
        "IPython.load_extensions('usability/codefolding/codefolding');"
       ],
       "metadata": {},
       "output_type": "display_data",
       "text": [
        "<IPython.core.display.Javascript at 0x7ff2b2c2b990>"
       ]
      }
     ],
     "prompt_number": 1
    },
    {
     "cell_type": "heading",
     "level": 3,
     "metadata": {},
     "source": [
      "Usage"
     ]
    },
    {
     "cell_type": "markdown",
     "metadata": {
      "variables": {}
     },
     "source": [
      "* Code cell \uc606\uc758 \"\u25be\" \ubc84\ud2bc\uc744 \ub204\ub974\uba74 folding\ub41c\ub2e4.\n",
      "* Code cell \uc606\uc758 \"\u25b8\" \ubc84\ud2bc \ub610\ub294 Folding\ub418\uc5b4 \uc788\ub294 \ub77c\uc778 \uc624\ub978\ucabd\uc5d0 \uc788\ub294 \"\u2194\"\uc73c\ub85c unfolding \ud560 \uc218 \uc788\ub2e4.\n",
      "* \uc704 \ubc84\ud2bc\uc774 \uc788\ub294 \ub77c\uc778\uc5d0\uc11c Alt+f\ub97c \uc774\uc6a9\ud558\uc5ec folding/unfolding \ud560 \uc218 \uc788\ub2e4."
     ]
    },
    {
     "cell_type": "heading",
     "level": 3,
     "metadata": {},
     "source": [
      "Example"
     ]
    },
    {
     "cell_type": "code",
     "collapsed": false,
     "input": [
      "%%javascript\n",
      "function jFoo(){\n",
      "    window.alert('jFoo');\n",
      "    return;\n",
      "}"
     ],
     "language": "python",
     "metadata": {
      "code_folding": [
       1
      ]
     },
     "outputs": [
      {
       "javascript": [
        "function jFoo(){\n",
        "    window.alert('jFoo');\n",
        "    return;\n",
        "}"
       ],
       "metadata": {},
       "output_type": "display_data",
       "text": [
        "<IPython.core.display.Javascript at 0x7ff2b2c9fc90>"
       ]
      }
     ],
     "prompt_number": 2
    },
    {
     "cell_type": "code",
     "collapsed": false,
     "input": [
      "# do something\n",
      "def foo(param):\n",
      "    print param"
     ],
     "language": "python",
     "metadata": {
      "code_folding": [
       0
      ]
     },
     "outputs": [],
     "prompt_number": 3
    },
    {
     "cell_type": "code",
     "collapsed": false,
     "input": [
      "# Check the extention is installed properly\n",
      "import IPython\n",
      "IPython.html.nbextensions.check_nbextension('usability/codefolding/codefolding.js')"
     ],
     "language": "python",
     "metadata": {
      "code_folding": [
       0
      ]
     },
     "outputs": [
      {
       "metadata": {},
       "output_type": "pyout",
       "prompt_number": 4,
       "text": [
        "True"
       ]
      }
     ],
     "prompt_number": 4
    },
    {
     "cell_type": "heading",
     "level": 2,
     "metadata": {},
     "source": [
      "Python Markdown"
     ]
    },
    {
     "cell_type": "markdown",
     "metadata": {
      "variables": {}
     },
     "source": [
      "* Python variable\uc5d0 \uc800\uc7a5\ub418\uc5b4 \uc788\ub294\uac12\uc744 markdown cell\uc5d0\uc11c reference \ud560 \uc218 \uc788\ub2e4.\n",
      "* ``` { {variable} } ``` \uc758 \ud615\ud0dc\ub85c \ucc38\uc870\ud55c\ub2e4.(\uacf5\ubc31\uc5c6\uc774)"
     ]
    },
    {
     "cell_type": "heading",
     "level": 3,
     "metadata": {},
     "source": [
      "Loading"
     ]
    },
    {
     "cell_type": "code",
     "collapsed": false,
     "input": [
      "%%javascript\n",
      "IPython.load_extensions('usability/python-markdown')"
     ],
     "language": "python",
     "metadata": {},
     "outputs": [
      {
       "javascript": [
        "IPython.load_extensions('usability/python-markdown')"
       ],
       "metadata": {},
       "output_type": "display_data",
       "text": [
        "<IPython.core.display.Javascript at 0x7ff2b2c32810>"
       ]
      }
     ],
     "prompt_number": 5
    },
    {
     "cell_type": "heading",
     "level": 3,
     "metadata": {},
     "source": [
      "Example"
     ]
    },
    {
     "cell_type": "code",
     "collapsed": true,
     "input": [
      "a = 123"
     ],
     "language": "python",
     "metadata": {},
     "outputs": [],
     "prompt_number": 6
    },
    {
     "cell_type": "markdown",
     "metadata": {
      "variables": {
       "a": "123"
      }
     },
     "source": [
      "a from python variable is {{a}}"
     ]
    },
    {
     "cell_type": "code",
     "collapsed": false,
     "input": [
      "from IPython.display import Latex\n",
      "b = Latex(r'$b = \\frac{\\epsilon}{2}$')\n",
      "b"
     ],
     "language": "python",
     "metadata": {},
     "outputs": [
      {
       "latex": [
        "$b = \\frac{\\epsilon}{2}$"
       ],
       "metadata": {},
       "output_type": "pyout",
       "prompt_number": 7,
       "text": [
        "<IPython.core.display.Latex at 0x7ff2b01cb550>"
       ]
      }
     ],
     "prompt_number": 7
    },
    {
     "cell_type": "markdown",
     "metadata": {
      "variables": {
       "b": "$b = \\frac{\\epsilon}{2}$"
      }
     },
     "source": [
      "Display b from above python cell {{b}}"
     ]
    },
    {
     "cell_type": "code",
     "collapsed": false,
     "input": [
      "from IPython.display import Image, SVG\n",
      "i = Image(filename='image.jpeg');\n",
      "i"
     ],
     "language": "python",
     "metadata": {},
     "outputs": [
      {
       "jpeg": "[encoded data removed]",
       "metadata": {},
       "output_type": "pyout",
       "prompt_number": 8,
       "text": [
        "<IPython.core.display.Image at 0x7ff2b00d75d0>"
       ]
      }
     ],
     "prompt_number": 8
    },
    {
     "cell_type": "markdown",
     "metadata": {
      "variables": {
       "i": "<img src=\"data:image/jpeg;base64,/9j/4AAQSkZJRgABAQAAAQABAAD/2wCEAAkGBxAQEBUUEBAWFhQWFhcQFhYUFBsYFBMSFxYWGRYW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\nSfw2eafQpKIP/9k=\n\"/>"
      }
     },
     "source": [
      "Displaying image here --> {{i}} and there"
     ]
    }
   ],
   "metadata": {}
  }
 ]
}
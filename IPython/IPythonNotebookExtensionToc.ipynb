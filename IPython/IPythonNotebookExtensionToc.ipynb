{
 "metadata": {
  "name": "",
  "signature": "sha256:74e51bdf788aaba629638ca1ee38b8f0566c83334489b7a06100f4e0c0c508c7"
 },
 "nbformat": 3,
 "nbformat_minor": 0,
 "worksheets": [
  {
   "cells": [
    {
     "cell_type": "heading",
     "level": 1,
     "metadata": {},
     "source": [
      "\uc2dc\uc791"
     ]
    },
    {
     "cell_type": "markdown",
     "metadata": {},
     "source": [
      "IPython notebook\uc744 markdown \uae30\ubc18 note\ub85c \uc774\uc6a9\ud558\ub294 \uac83\uc774 \uaf64\ub098 \uad1c\ucc2e\uc740 \uac83 \uac19\ub2e4.<br>\n",
      "\ub2e8, heading 1~6 foramt\uc758 cell\ub4e4\uc740 \ub208 \ub300\uc911\ub9cc\uc73c\ub85c\ub294 \uc815\ud655\ud788 \uc5b4\ub5a4 level\uc778\uc9c0 \uac10\uc774 \uc798 \uc548\uc628\ub2e4.<br>\n",
      "\uc0ac\uc2e4 markdown\uc758 '''#''' \ub97c \uc774\uc6a9\ud558\ub294 \uacbd\uc6b0\uc640 \uad6c\ubd84\ub3c4 \uc798 \uc548\ub41c\ub2e4.<br>\n",
      "\uadf8\ub798\uc11c TOC(Table of Content)\uac00 \uc788\uc73c\uba74 \uc88b\uaca0\ub2e4\uace0 \uc0dd\uac01\ud588\ub2e4."
     ]
    },
    {
     "cell_type": "heading",
     "level": 1,
     "metadata": {},
     "source": [
      "\uac80\uc0c9"
     ]
    },
    {
     "cell_type": "markdown",
     "metadata": {},
     "source": [
      "\"**ipython notebook extension toc**\" \uc73c\ub85c google \uac80\uc0c9 \uacb0\uacfc \uc81c\uc77c \uba3c\uc800 \ub098\uc624\ub294 github \ud398\uc774\uc9c0\uac00 \uc788\ub2e4.\n",
      " * https://github.com/minrk/ipython_extensions\n",
      "\n",
      "\ub0b4\uc6a9\uc744 \ubcf4\ub2c8 toc\uc678\uc5d0 \ub2e4\ub978 extension\ub4e4\ub3c4 \uc788\ub294 \uac83 \uac19\uc740\ub370 \uc77c\ub2e8 \ud544\uc694\ud558\uc9c0 \uc54a\uc73c\ub2c8\uae4c skip"
     ]
    },
    {
     "cell_type": "heading",
     "level": 1,
     "metadata": {},
     "source": [
      "\uc124\uce58"
     ]
    },
    {
     "cell_type": "markdown",
     "metadata": {},
     "source": [
      "Repository\uc5d0 \uc788\ub294 [TOC extension\uc5d0 \ub300\ud55c \ub0b4\uc6a9](https://github.com/minrk/ipython_extensions#table-of-contents)\uc744 \ubcf4\ub2c8 \uc544\ub798\uc758 \ubc29\ubc95\uc73c\ub85c Github\uc758 source\ub97c \ubc14\ub85c download\ud574\uc11c \uc0ac\uc6a9\ud560 \uc218 \uc788\ub294 \uac83 \ucc98\ub7fc \ubcf4\uc778\ub2e4.<br>\n",
      "```toc.js```\uc640 ```toc.css``` \ub450 \ud30c\uc77c\uc744 \ub2e4\uc6b4 \ubc1b\uc73c\uba74 \ub418\ub294\ub370 Guide\ub300\ub85c \uc124\uce58\ud574 \ubcf4\ub2c8 \uc548\ub41c\ub2e4.<br>\n",
      "Guide\uc758 \ub0b4\uc6a9\uc740 python 3.x\ub97c \uc0ac\uc6a9\ud558\ub294 \uacbd\uc6b0\uc5d0\ub9cc \ub418\ub294 \ub4ef \ud558\ub2e4.<br>\n",
      "\ud574\ub2f9 reposoty\uc758 log\ub97c \ubcf4\ub2c8 2.x \ub97c \uc0ac\uc6a9\ud558\ub2e4\uac00 \uadf8\ub0e5 3.x\uc6a9 code\ub85c \ub118\uc5b4\uc628 \uac83 \uac19\ub2e4. \uadf8\ub798\uc11c \uc608\uc804 2.x\uc6a9\uc73c\ub85c \uc791\uc131\ub41c file\uc744 down\ubc1b\ub3c4\ub85d guide\uc758 \uba85\ub839\uc744 \uc218\uc815\ud588\ub2e4."
     ]
    },
    {
     "cell_type": "heading",
     "level": 2,
     "metadata": {},
     "source": [
      "Download"
     ]
    },
    {
     "cell_type": "markdown",
     "metadata": {},
     "source": [
      "\uc544\ub798 code cell\uc744 \uc774\uc6a9\ud574 IPython 2.x\uc6a9 toc extension\uc744 download \ubc1b\uc744 \uc218 \uc788\ub2e4.\n",
      " * https://github.com/gh4ck3r/.ipython/commit/17452af6ccc2718810d3ad562cc456151c596217"
     ]
    },
    {
     "cell_type": "code",
     "collapsed": false,
     "input": [
      "# Install IPython Notebook Extension ToC\n",
      "!curl -L https://raw.githubusercontent.com/minrk/ipython_extensions/8366fc2d37893cc1a8a2c6a89bff464380f30c16/nbextensions/toc.js > $(ipython locate)/nbextensions/toc.js\n",
      "!curl -L https://rawgithub.com/minrk/ipython_extensions/master/nbextensions/toc.css > $(ipython locate)/nbextensions/toc.css\n",
      "\n",
      "# Check the extention is installed properly\n",
      "import IPython\n",
      "IPython.html.nbextensions.check_nbextension('toc.js')"
     ],
     "language": "python",
     "metadata": {},
     "outputs": [
      {
       "output_type": "stream",
       "stream": "stdout",
       "text": [
        "  % Total    % Received % Xferd  Average Speed   Time    Time     Time  Current\r\n",
        "                                 Dload  Upload   Total   Spent    Left  Speed\r\n",
        "\r",
        "  0     0    0     0    0     0      0      0 --:--:-- --:--:-- --:--:--     0"
       ]
      },
      {
       "output_type": "stream",
       "stream": "stdout",
       "text": [
        "\r",
        "  0  4092    0     0    0     0      0      0 --:--:-- --:--:-- --:--:--     0\r",
        "100  4092  100  4092    0     0   6087      0 --:--:-- --:--:-- --:--:--  6080\r\n"
       ]
      },
      {
       "output_type": "stream",
       "stream": "stdout",
       "text": [
        "  % Total    % Received % Xferd  Average Speed   Time    Time     Time  Current\r\n",
        "                                 Dload  Upload   Total   Spent    Left  Speed\r\n",
        "\r",
        "  0     0    0     0    0     0      0      0 --:--:-- --:--:-- --:--:--     0"
       ]
      },
      {
       "output_type": "stream",
       "stream": "stdout",
       "text": [
        "\r",
        "  0     0    0     0    0     0      0      0 --:--:-- --:--:-- --:--:--     0"
       ]
      },
      {
       "output_type": "stream",
       "stream": "stdout",
       "text": [
        "\r",
        "100   178  100   178    0     0    130      0  0:00:01  0:00:01 --:--:--   130\r\n"
       ]
      },
      {
       "output_type": "stream",
       "stream": "stdout",
       "text": [
        "\r",
        "  0     0    0     0    0     0      0      0 --:--:--  0:00:01 --:--:--     0"
       ]
      },
      {
       "output_type": "stream",
       "stream": "stdout",
       "text": [
        "\r",
        "  0     0    0   783    0     0    279      0 --:--:--  0:00:02 --:--:--   703\r",
        "  0     0    0   783    0     0    279      0 --:--:--  0:00:02 --:--:--   703\r\n"
       ]
      },
      {
       "metadata": {},
       "output_type": "pyout",
       "prompt_number": 13,
       "text": [
        "True"
       ]
      }
     ],
     "prompt_number": 13
    },
    {
     "cell_type": "heading",
     "level": 2,
     "metadata": {},
     "source": [
      "IPyton notebook \uad6c\ub3d9 \uc2dc Loading"
     ]
    },
    {
     "cell_type": "markdown",
     "metadata": {},
     "source": [
      "* **\uc774\uac74 \uadf8\ub0e5 \uc544\ub798 commit \ucc38\uace0**\n",
      " * https://github.com/gh4ck3r/IPython-notebook-extensions/commit/c949a4fb020c0e4dcc3bae724fedddff522e9552"
     ]
    },
    {
     "cell_type": "markdown",
     "metadata": {},
     "source": [
      "```javascript\n",
      "require([\"nbextensions/toc\"], function (toc) {\n",
      "  console.log('Table of Contents extension loaded');\n",
      "  //toc.load_ipython_extension();\n",
      "  IPython.load_extensions('toc');\n",
      "  // If you want to load the toc by default, add:\n",
      "  toc.table_of_contents();\n",
      "});\n",
      "```"
     ]
    },
    {
     "cell_type": "heading",
     "level": 2,
     "metadata": {},
     "source": [
      "\ud398\uc774\uc9c0 \uc5f4 \ub54c\ub9c8\ub2e4 \uc790\ub3d9 \uc2dc\uc791"
     ]
    },
    {
     "cell_type": "markdown",
     "metadata": {},
     "source": [
      "\uc544\ub798 javascript\ub97c \uc704\uc758 loading callback function \ub0b4\ubd80\uc5d0\uc11c \ud638\ucd9c\n",
      "```javascript\n",
      "toc.table_of_contents();\n",
      "```"
     ]
    },
    {
     "cell_type": "heading",
     "level": 1,
     "metadata": {},
     "source": [
      "\ud655\uc778"
     ]
    },
    {
     "cell_type": "markdown",
     "metadata": {},
     "source": [
      "\uc704 \uacfc\uc815\uc774 \uc815\uc0c1\uc801\uc73c\ub85c \uc885\ub8cc\ub418\uace0 IPython notebook\uc744 \uc7ac \uad6c\ub3d9\uc2dc\ud0a8 \ud6c4 \ud398\uc774\uc9c0\ub97c \uc5f4\uba74 \ub450 \uac00\uc9c0 \ubcc0\ud654\uac00 \uc788\ub2e4.\n",
      " * Celltoolbar \uc758 \uc6b0\uce21\uc5d0 Table of Contents icon\n",
      " * \ud398\uc774\uc9c0\uc758 \uc6b0\uce21 \uc0c1\ub2e8\uc5d0 \"Contents\"\ub77c\uace0 \uc801\ud78c box\uac00 \uc788\ub2e4."
     ]
    }
   ],
   "metadata": {}
  }
 ]
}